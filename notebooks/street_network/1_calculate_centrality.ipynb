{
 "cells": [
  {
   "cell_type": "code",
   "execution_count": 15,
   "metadata": {},
   "outputs": [],
   "source": [
    "# data processing\n",
    "import numpy as np\n",
    "import pandas as pd\n",
    "\n",
    "# GIS calculation\n",
    "import geopandas as gpd\n",
    "\n",
    "# network model\n",
    "import networkx as nx"
   ]
  },
  {
   "cell_type": "code",
   "execution_count": 16,
   "metadata": {},
   "outputs": [],
   "source": [
    "# import lion nodes. I extracted a subset of the raw LION dataset within the boundary of Manhattan.\n",
    "gdf_lion_nodes = gpd.read_file('../../data/raw/lion/nodes_manhattan.geojson')\n",
    "\n",
    "# import lion edges (streets). I extracted a subset of the raw LION dataset within the boundary of Manhattan.\n",
    "# I will upload this edge geojson file into the shared google drive folder\n",
    "gdf_lion_edges = gpd.read_file('../../data/raw/lion/edges_manhattan.geojson')"
   ]
  },
  {
   "cell_type": "code",
   "execution_count": 17,
   "metadata": {},
   "outputs": [],
   "source": [
    "# drop edges between same nodes\n",
    "gdf_lion_edges = gdf_lion_edges.loc[gdf_lion_edges.loc[:,'NodeIDFrom'] != gdf_lion_edges.loc[:,'NodeIDTo']]\n",
    "\n",
    "# drop dupliated edges (edge between same node pairs)\n",
    "gdf_lion_edges.loc[:,'route'] = gdf_lion_edges.loc[:,['NodeIDFrom', 'NodeIDTo']].apply(lambda x: '~'.join(sorted(x)), axis=1)\n",
    "gdf_lion_edges = gdf_lion_edges.drop_duplicates(subset='route')"
   ]
  },
  {
   "cell_type": "code",
   "execution_count": 18,
   "metadata": {},
   "outputs": [
    {
     "data": {
      "text/plain": [
       "(25779, 131)"
      ]
     },
     "execution_count": 18,
     "metadata": {},
     "output_type": "execute_result"
    }
   ],
   "source": [
    "gdf_lion_edges.shape"
   ]
  },
  {
   "cell_type": "code",
   "execution_count": 19,
   "metadata": {},
   "outputs": [],
   "source": [
    "# import the neighborhood boundary (from https://data.cityofnewyork.us/City-Government/Neighborhoods-Boundries/j2bc-fus8)\n",
    "gdf_neighborhood = gpd.read_file('../../data/raw/boundary/Neighborhoods Boundries.geojson')\n",
    "gdf_neighborhood = gdf_neighborhood.loc[gdf_neighborhood.loc[:,'boroname'] == 'Manhattan']"
   ]
  },
  {
   "cell_type": "code",
   "execution_count": 20,
   "metadata": {},
   "outputs": [],
   "source": [
    "def calculate_neighborhood_centrality(neighborhood):\n",
    "    # crop the lion edges by a certain neighborhood boundary\n",
    "    gdf_neighborhood_tmp = gdf_neighborhood.loc[gdf_neighborhood.loc[:,'ntaname'] == neighborhood]\n",
    "    gdf_neighborhood_tmp = gdf_neighborhood_tmp.to_crs(2263)\n",
    "    gdf_lion_edges_tmp = gpd.sjoin(gdf_lion_edges,gdf_neighborhood_tmp.loc[:,['ntaname','geometry']],\n",
    "                                   how='inner',\n",
    "                                   predicate='intersects').drop(['index_right','ntaname'], axis=1)\n",
    "    \n",
    "    # create a graph, with length of each edge\n",
    "    # because I assumed that the street network is undirected single graph. \n",
    "    # so some edges will be removed if there are multiple streets between two nodes.\n",
    "    G_lion_tmp = nx.from_pandas_edgelist(gdf_lion_edges_tmp, 'NodeIDFrom', 'NodeIDTo', edge_attr=['OBJECTID','SHAPE_Length'], create_using=nx.Graph())\n",
    "\n",
    "    # https://networkx.org/documentation/stable/reference/algorithms/generated/networkx.algorithms.centrality.edge_betweenness_centrality.html#networkx.algorithms.centrality.edge_betweenness_centrality\n",
    "    betweenness_centrality = nx.edge_betweenness_centrality(G_lion_tmp, weight='SHAPE_Length')\n",
    "\n",
    "    # add betweeness centrality as a property of the edges\n",
    "    for k, v in betweenness_centrality.items():\n",
    "        node_id_from = k[0]\n",
    "        node_id_to = k[1]\n",
    "        # add attribute 'edge_id'\n",
    "        G_lion_tmp[node_id_from][node_id_to]['betweeness'] = v\n",
    "\n",
    "    # convert the edge info as a dataframe. \n",
    "    df_edge_info = pd.DataFrame([value for _,_,value in list(G_lion_tmp.edges(data=True))])\n",
    "\n",
    "    df_edge_info = df_edge_info.loc[:,['OBJECTID','betweeness']]\n",
    "\n",
    "    return df_edge_info\n",
    "    "
   ]
  },
  {
   "cell_type": "code",
   "execution_count": 21,
   "metadata": {},
   "outputs": [],
   "source": [
    "list_neighborhood_betweeness = []\n",
    "\n",
    "for i, row in gdf_neighborhood.iterrows():\n",
    "    neighborhood = row['ntaname']\n",
    "    df_betweeness_tmp = calculate_neighborhood_centrality(neighborhood)\n",
    "    list_neighborhood_betweeness.append(df_betweeness_tmp)"
   ]
  },
  {
   "cell_type": "code",
   "execution_count": 22,
   "metadata": {},
   "outputs": [],
   "source": [
    "df_centrality = pd.concat(list_neighborhood_betweeness, ignore_index=True)"
   ]
  },
  {
   "cell_type": "code",
   "execution_count": 23,
   "metadata": {},
   "outputs": [],
   "source": [
    "gdf_lion_edges = gdf_lion_edges.merge(df_centrality, on='OBJECTID', how='inner')"
   ]
  },
  {
   "cell_type": "code",
   "execution_count": 26,
   "metadata": {},
   "outputs": [
    {
     "data": {
      "text/plain": [
       "Index(['OBJECTID', 'Street', 'SAFStreetName', 'FeatureTyp', 'SegmentTyp',\n",
       "       'IncExFlag', 'RB_Layer', 'NonPed', 'TrafDir', 'TrafSrc',\n",
       "       ...\n",
       "       'FromRight', 'ToRight', 'Join_ID', 'L_PD_Service_Area',\n",
       "       'R_PD_Service_Area', 'TRUCK_ROUTE_TYPE', 'SHAPE_Length', 'geometry',\n",
       "       'route', 'betweeness'],\n",
       "      dtype='object', length=132)"
      ]
     },
     "execution_count": 26,
     "metadata": {},
     "output_type": "execute_result"
    }
   ],
   "source": [
    "gdf_lion_edges.columns"
   ]
  },
  {
   "cell_type": "code",
   "execution_count": 25,
   "metadata": {},
   "outputs": [],
   "source": [
    "gdf_lion_edges.drop('route', axis=1).to_file('../../data/processed/street_network.geojson', driver='GeoJSON')"
   ]
  },
  {
   "cell_type": "code",
   "execution_count": 28,
   "metadata": {},
   "outputs": [
    {
     "name": "stdout",
     "output_type": "stream",
     "text": [
      "OBJECTID\n",
      "Street\n",
      "SAFStreetName\n",
      "FeatureTyp\n",
      "SegmentTyp\n",
      "IncExFlag\n",
      "RB_Layer\n",
      "NonPed\n",
      "TrafDir\n",
      "TrafSrc\n",
      "SpecAddr\n",
      "FaceCode\n",
      "SeqNum\n",
      "StreetCode\n",
      "SAFStreetCode\n",
      "LGC1\n",
      "LGC2\n",
      "LGC3\n",
      "LGC4\n",
      "LGC5\n",
      "LGC6\n",
      "LGC7\n",
      "LGC8\n",
      "LGC9\n",
      "BOE_LGC\n",
      "SegmentID\n",
      "SegCount\n",
      "LocStatus\n",
      "LZip\n",
      "RZip\n",
      "LBoro\n",
      "RBoro\n",
      "L_CD\n",
      "R_CD\n",
      "LATOMICPOLYGON\n",
      "RATOMICPOLYGON\n",
      "LCT2020\n",
      "LCT2020Suf\n",
      "RCT2020\n",
      "RCT2020Suf\n",
      "LCB2020\n",
      "LCB2020Suf\n",
      "RCB2020\n",
      "RCB2020Suf\n",
      "LCT2010\n",
      "LCT2010Suf\n",
      "RCT2010\n",
      "RCT2010Suf\n",
      "LCB2010\n",
      "LCB2010Suf\n",
      "RCB2010\n",
      "RCB2010Suf\n",
      "LCT2000\n",
      "LCT2000Suf\n",
      "RCT2000\n",
      "RCT2000Suf\n",
      "LCB2000\n",
      "LCB2000Suf\n",
      "RCB2000\n",
      "RCB2000Suf\n",
      "LCT1990\n",
      "LCT1990Suf\n",
      "RCT1990\n",
      "RCT1990Suf\n",
      "LAssmDist\n",
      "LElectDist\n",
      "RAssmDist\n",
      "RElectDist\n",
      "SplitElect\n",
      "LSchlDist\n",
      "RSchlDist\n",
      "SplitSchl\n",
      "LSubSect\n",
      "RSubSect\n",
      "SanDistInd\n",
      "MapFrom\n",
      "MapTo\n",
      "BoroBndry\n",
      "MH_RI_Flag\n",
      "XFrom\n",
      "YFrom\n",
      "XTo\n",
      "YTo\n",
      "ArcCenterX\n",
      "ArcCenterY\n",
      "CurveFlag\n",
      "Radius\n",
      "NodeIDFrom\n",
      "NodeIDTo\n",
      "NodeLevelF\n",
      "NodeLevelT\n",
      "ConParity\n",
      "Twisted\n",
      "RW_TYPE\n",
      "PhysicalID\n",
      "GenericID\n",
      "NYPDID\n",
      "FDNYID\n",
      "LBlockFaceID\n",
      "RBlockFaceID\n",
      "LegacyID\n",
      "Status\n",
      "StreetWidth_Min\n",
      "StreetWidth_Max\n",
      "StreetWidth_Irr\n",
      "BikeLane\n",
      "BIKE_TRAFDIR\n",
      "ACTIVE_FLAG\n",
      "POSTED_SPEED\n",
      "Snow_Priority\n",
      "Number_Travel_Lanes\n",
      "Number_Park_Lanes\n",
      "Number_Total_Lanes\n",
      "Carto_Display_Level\n",
      "FCC\n",
      "ROW_Type\n",
      "LLo_Hyphen\n",
      "LHi_Hyphen\n",
      "RLo_Hyphen\n",
      "RHi_Hyphen\n",
      "FromLeft\n",
      "ToLeft\n",
      "FromRight\n",
      "ToRight\n",
      "Join_ID\n",
      "L_PD_Service_Area\n",
      "R_PD_Service_Area\n",
      "TRUCK_ROUTE_TYPE\n",
      "SHAPE_Length\n",
      "geometry\n",
      "route\n",
      "betweeness\n"
     ]
    }
   ],
   "source": [
    "for c in gdf_lion_edges.columns:\n",
    "    print(c)"
   ]
  },
  {
   "cell_type": "code",
   "execution_count": null,
   "metadata": {},
   "outputs": [],
   "source": []
  }
 ],
 "metadata": {
  "kernelspec": {
   "display_name": "geo",
   "language": "python",
   "name": "python3"
  },
  "language_info": {
   "codemirror_mode": {
    "name": "ipython",
    "version": 3
   },
   "file_extension": ".py",
   "mimetype": "text/x-python",
   "name": "python",
   "nbconvert_exporter": "python",
   "pygments_lexer": "ipython3",
   "version": "3.12.2"
  }
 },
 "nbformat": 4,
 "nbformat_minor": 2
}
