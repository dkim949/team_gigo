{
 "cells": [
  {
   "cell_type": "code",
   "execution_count": 1,
   "metadata": {},
   "outputs": [],
   "source": [
    "import pandas as pd\n",
    "import geopandas as gpd\n",
    "import joblib\n",
    "\n",
    "model = joblib.load('../../models/model_forest.pkl')\n",
    "scaler = joblib.load('../../models/scaler.pkl')"
   ]
  },
  {
   "cell_type": "code",
   "execution_count": 2,
   "metadata": {},
   "outputs": [],
   "source": [
    "gdf_ = gpd.read_file('../../data/processed/building/building_240417.geojson')"
   ]
  },
  {
   "cell_type": "code",
   "execution_count": 4,
   "metadata": {},
   "outputs": [],
   "source": [
    "gdf_.drop(columns=['geometry']).to_csv('./building_0418.csv', index=False)"
   ]
  },
  {
   "cell_type": "code",
   "execution_count": 21,
   "metadata": {},
   "outputs": [],
   "source": [
    "df_building = gpd.read_file('../../data/processed/building/building_240417.geojson')"
   ]
  },
  {
   "cell_type": "code",
   "execution_count": 22,
   "metadata": {},
   "outputs": [],
   "source": [
    "df_building_copy = df_building.copy()"
   ]
  },
  {
   "cell_type": "code",
   "execution_count": 23,
   "metadata": {},
   "outputs": [],
   "source": [
    "df_building_copy = df_building_copy.rename(columns={'distance_to_park':'dist_park',\n",
    "                            'retail_within_450ft':'retail_450',\n",
    "                            'distance_from_station(ft)':'dist_station',\n",
    "                            'residential_within_450ft':'residential_450',\n",
    "                            'distance_to_school':'dist_school',\n",
    "                            'office_within_450ft':'office_450'})"
   ]
  },
  {
   "cell_type": "code",
   "execution_count": 24,
   "metadata": {},
   "outputs": [],
   "source": [
    "columns = ['dist_park',\n",
    "           'retail_450',\n",
    "           'retail_area',\n",
    "           'dist_station',\n",
    "           'residential_450',\n",
    "           'idw_atvc_mean',\n",
    "           'food_1000',\n",
    "           'food_800',\n",
    "           'idw_aadt_mean',\n",
    "           'residential_area',\n",
    "           'dist_school',\n",
    "           'food_400',\n",
    "           'office_450',\n",
    "           'food_100']"
   ]
  },
  {
   "cell_type": "code",
   "execution_count": 25,
   "metadata": {},
   "outputs": [],
   "source": [
    "X_buidling = df_building_copy.loc[:, columns]\n",
    "X_buidling = scaler.transform(X_buidling)\n",
    "X_buidling = pd.DataFrame(X_buidling, columns=columns)\n",
    "y_building = [values[1] for values in model.predict_proba(X_buidling)]"
   ]
  },
  {
   "cell_type": "code",
   "execution_count": 26,
   "metadata": {},
   "outputs": [],
   "source": [
    "df_building.loc[:,'probability'] = y_building"
   ]
  },
  {
   "cell_type": "code",
   "execution_count": 28,
   "metadata": {},
   "outputs": [],
   "source": [
    "df_building.to_file('../../data/processed/building/building_240417_probability.geojson', driver='GeoJSON')"
   ]
  },
  {
   "cell_type": "code",
   "execution_count": 30,
   "metadata": {},
   "outputs": [
    {
     "data": {
      "text/html": [
       "<div>\n",
       "<style scoped>\n",
       "    .dataframe tbody tr th:only-of-type {\n",
       "        vertical-align: middle;\n",
       "    }\n",
       "\n",
       "    .dataframe tbody tr th {\n",
       "        vertical-align: top;\n",
       "    }\n",
       "\n",
       "    .dataframe thead th {\n",
       "        text-align: right;\n",
       "    }\n",
       "</style>\n",
       "<table border=\"1\" class=\"dataframe\">\n",
       "  <thead>\n",
       "    <tr style=\"text-align: right;\">\n",
       "      <th></th>\n",
       "      <th>bin</th>\n",
       "      <th>probability</th>\n",
       "    </tr>\n",
       "  </thead>\n",
       "  <tbody>\n",
       "    <tr>\n",
       "      <th>3742</th>\n",
       "      <td>1063584</td>\n",
       "      <td>0.700462</td>\n",
       "    </tr>\n",
       "    <tr>\n",
       "      <th>8500</th>\n",
       "      <td>1082666</td>\n",
       "      <td>0.698784</td>\n",
       "    </tr>\n",
       "    <tr>\n",
       "      <th>11016</th>\n",
       "      <td>1085800</td>\n",
       "      <td>0.693452</td>\n",
       "    </tr>\n",
       "    <tr>\n",
       "      <th>2950</th>\n",
       "      <td>1088298</td>\n",
       "      <td>0.690602</td>\n",
       "    </tr>\n",
       "    <tr>\n",
       "      <th>11982</th>\n",
       "      <td>1020543</td>\n",
       "      <td>0.688413</td>\n",
       "    </tr>\n",
       "    <tr>\n",
       "      <th>32374</th>\n",
       "      <td>1088320</td>\n",
       "      <td>0.687427</td>\n",
       "    </tr>\n",
       "    <tr>\n",
       "      <th>16868</th>\n",
       "      <td>1085400</td>\n",
       "      <td>0.686722</td>\n",
       "    </tr>\n",
       "    <tr>\n",
       "      <th>14064</th>\n",
       "      <td>1001137</td>\n",
       "      <td>0.686369</td>\n",
       "    </tr>\n",
       "    <tr>\n",
       "      <th>1472</th>\n",
       "      <td>1087577</td>\n",
       "      <td>0.684961</td>\n",
       "    </tr>\n",
       "    <tr>\n",
       "      <th>13619</th>\n",
       "      <td>1085799</td>\n",
       "      <td>0.684014</td>\n",
       "    </tr>\n",
       "  </tbody>\n",
       "</table>\n",
       "</div>"
      ],
      "text/plain": [
       "           bin  probability\n",
       "3742   1063584     0.700462\n",
       "8500   1082666     0.698784\n",
       "11016  1085800     0.693452\n",
       "2950   1088298     0.690602\n",
       "11982  1020543     0.688413\n",
       "32374  1088320     0.687427\n",
       "16868  1085400     0.686722\n",
       "14064  1001137     0.686369\n",
       "1472   1087577     0.684961\n",
       "13619  1085799     0.684014"
      ]
     },
     "execution_count": 30,
     "metadata": {},
     "output_type": "execute_result"
    }
   ],
   "source": [
    "df_building.sort_values(by='probability', ascending=False).head(10).loc[:,['bin','probability']]"
   ]
  },
  {
   "cell_type": "code",
   "execution_count": null,
   "metadata": {},
   "outputs": [],
   "source": []
  }
 ],
 "metadata": {
  "kernelspec": {
   "display_name": "teamgigo",
   "language": "python",
   "name": "python3"
  },
  "language_info": {
   "codemirror_mode": {
    "name": "ipython",
    "version": 3
   },
   "file_extension": ".py",
   "mimetype": "text/x-python",
   "name": "python",
   "nbconvert_exporter": "python",
   "pygments_lexer": "ipython3",
   "version": "3.12.2"
  }
 },
 "nbformat": 4,
 "nbformat_minor": 2
}
