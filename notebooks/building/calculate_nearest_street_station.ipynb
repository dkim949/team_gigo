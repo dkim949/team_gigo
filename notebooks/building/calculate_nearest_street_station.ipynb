{
 "cells": [
  {
   "cell_type": "code",
   "execution_count": 1,
   "metadata": {},
   "outputs": [],
   "source": [
    "import numpy as np\n",
    "import pandas as pd\n",
    "import geopandas as gpd\n",
    "\n",
    "from tqdm import tqdm\n",
    "tqdm.pandas(desc=\"Applying function\")\n",
    "\n",
    "from shapely.geometry import Point"
   ]
  },
  {
   "cell_type": "markdown",
   "metadata": {},
   "source": [
    "## Filter with the Manhattan boundary\n",
    "\n",
    "Please do not start this part if you have the `building_manhattan.geojson` file"
   ]
  },
  {
   "cell_type": "code",
   "execution_count": 2,
   "metadata": {},
   "outputs": [],
   "source": [
    "# import dataset (from https://data.cityofnewyork.us/Housing-Development/Building-Footprints/nqwf-w8eh)\n",
    "gdf_building = gpd.read_file('../../data/raw/building/Building Footprints.geojson')"
   ]
  },
  {
   "cell_type": "code",
   "execution_count": 3,
   "metadata": {},
   "outputs": [
    {
     "name": "stderr",
     "output_type": "stream",
     "text": [
      "c:\\Users\\seung\\anaconda3\\envs\\teamgigo\\Lib\\site-packages\\IPython\\core\\interactiveshell.py:3517: FutureWarning: The `op` parameter is deprecated and will be removed in a future release. Please use the `predicate` parameter instead.\n",
      "  if await self.run_code(code, result, async_=asy):\n"
     ]
    }
   ],
   "source": [
    "# filtering buildings with the Manhattan boundary\n",
    "gdf_manhattan = gpd.read_file('../../data/raw/boundary/Borough Boundaries.geojson')\n",
    "gdf_manhattan = gdf_manhattan.loc[gdf_manhattan.loc[:,'boro_name'] == 'Manhattan']\n",
    "\n",
    "gdf_building_manhattan = gpd.sjoin(gdf_building, gdf_manhattan, how='inner', op='intersects')"
   ]
  },
  {
   "cell_type": "code",
   "execution_count": 4,
   "metadata": {},
   "outputs": [],
   "source": [
    "gdf_building_manhattan.to_file('../../data/raw/building/building_manhattan.geojson', driver='GeoJSON')"
   ]
  },
  {
   "cell_type": "markdown",
   "metadata": {},
   "source": [
    "## Calculate the nearest street"
   ]
  },
  {
   "cell_type": "code",
   "execution_count": 5,
   "metadata": {},
   "outputs": [],
   "source": [
    "gdf_building_manhattan = gpd.read_file('../../data/raw/building/building_manhattan.geojson')\n",
    "gdf_streets = gpd.read_file('../../data/processed/street_network.geojson')\n",
    "\n",
    "gdf_building_manhattan = gdf_building_manhattan.drop(['shape_len','index_right', 'boro_code', 'boro_name', 'shape_area_right','shape_leng'], axis=1)"
   ]
  },
  {
   "cell_type": "code",
   "execution_count": 6,
   "metadata": {},
   "outputs": [
    {
     "data": {
      "text/plain": [
       "True"
      ]
     },
     "execution_count": 6,
     "metadata": {},
     "output_type": "execute_result"
    }
   ],
   "source": [
    "# unify the coordinates systems\n",
    "gdf_building_manhattan = gdf_building_manhattan.to_crs(2263)\n",
    "gdf_streets.crs == gdf_building_manhattan.crs"
   ]
  },
  {
   "cell_type": "code",
   "execution_count": 7,
   "metadata": {},
   "outputs": [],
   "source": [
    "gdf_building_manhattan = gdf_building_manhattan.sjoin_nearest(gdf_streets.loc[:,['OBJECTID','StreetWidth_Min','StreetWidth_Max','POSTED_SPEED','geometry']])\n",
    "\n",
    "# because duplicated rows created during the spatial join process, I dropped\n",
    "gdf_building_manhattan = gdf_building_manhattan.drop_duplicates(subset=['base_bbl','mpluto_bbl','globalid']).drop('index_right', axis=1)"
   ]
  },
  {
   "cell_type": "code",
   "execution_count": 8,
   "metadata": {},
   "outputs": [
    {
     "data": {
      "text/html": [
       "<div>\n",
       "<style scoped>\n",
       "    .dataframe tbody tr th:only-of-type {\n",
       "        vertical-align: middle;\n",
       "    }\n",
       "\n",
       "    .dataframe tbody tr th {\n",
       "        vertical-align: top;\n",
       "    }\n",
       "\n",
       "    .dataframe thead th {\n",
       "        text-align: right;\n",
       "    }\n",
       "</style>\n",
       "<table border=\"1\" class=\"dataframe\">\n",
       "  <thead>\n",
       "    <tr style=\"text-align: right;\">\n",
       "      <th></th>\n",
       "      <th>name</th>\n",
       "      <th>base_bbl</th>\n",
       "      <th>shape_area_left</th>\n",
       "      <th>heightroof</th>\n",
       "      <th>mpluto_bbl</th>\n",
       "      <th>cnstrct_yr</th>\n",
       "      <th>globalid</th>\n",
       "      <th>lststatype</th>\n",
       "      <th>feat_code</th>\n",
       "      <th>groundelev</th>\n",
       "      <th>geomsource</th>\n",
       "      <th>bin</th>\n",
       "      <th>lstmoddate</th>\n",
       "      <th>doitt_id</th>\n",
       "      <th>geometry</th>\n",
       "      <th>OBJECTID</th>\n",
       "      <th>StreetWidth_Min</th>\n",
       "      <th>StreetWidth_Max</th>\n",
       "      <th>POSTED_SPEED</th>\n",
       "    </tr>\n",
       "  </thead>\n",
       "  <tbody>\n",
       "    <tr>\n",
       "      <th>0</th>\n",
       "      <td>None</td>\n",
       "      <td>1021210037</td>\n",
       "      <td>0.0</td>\n",
       "      <td>59.722628</td>\n",
       "      <td>1021210037</td>\n",
       "      <td>1910</td>\n",
       "      <td>{A0E56BCC-A86B-4CEF-9A42-9B4ECD61743F}</td>\n",
       "      <td>Constructed</td>\n",
       "      <td>2100</td>\n",
       "      <td>154</td>\n",
       "      <td>Photogramm</td>\n",
       "      <td>1062896</td>\n",
       "      <td>2017-08-22</td>\n",
       "      <td>708881</td>\n",
       "      <td>MULTIPOLYGON (((1001211.761 244524.798, 100123...</td>\n",
       "      <td>100007</td>\n",
       "      <td>60.0</td>\n",
       "      <td>60.0</td>\n",
       "      <td>25</td>\n",
       "    </tr>\n",
       "    <tr>\n",
       "      <th>1</th>\n",
       "      <td>None</td>\n",
       "      <td>1008870001</td>\n",
       "      <td>0.0</td>\n",
       "      <td>155.49</td>\n",
       "      <td>1008870001</td>\n",
       "      <td>1935</td>\n",
       "      <td>{0B06F7A8-1F83-44F3-97DD-AC524A6374CA}</td>\n",
       "      <td>Constructed</td>\n",
       "      <td>2100</td>\n",
       "      <td>37</td>\n",
       "      <td>Photogramm</td>\n",
       "      <td>1018457</td>\n",
       "      <td>2017-08-22</td>\n",
       "      <td>584238</td>\n",
       "      <td>MULTIPOLYGON (((989135.970 210787.603, 989181....</td>\n",
       "      <td>101045</td>\n",
       "      <td>32.0</td>\n",
       "      <td>32.0</td>\n",
       "      <td>25</td>\n",
       "    </tr>\n",
       "    <tr>\n",
       "      <th>2</th>\n",
       "      <td>None</td>\n",
       "      <td>1013490035</td>\n",
       "      <td>0.0</td>\n",
       "      <td>167.21446831</td>\n",
       "      <td>1013490035</td>\n",
       "      <td>1931</td>\n",
       "      <td>{A091951D-C73E-4B77-9A61-716C666C5446}</td>\n",
       "      <td>Constructed</td>\n",
       "      <td>2100</td>\n",
       "      <td>52</td>\n",
       "      <td>Photogramm</td>\n",
       "      <td>1039988</td>\n",
       "      <td>2017-08-22</td>\n",
       "      <td>66240</td>\n",
       "      <td>MULTIPOLYGON (((994153.480 215659.003, 994165....</td>\n",
       "      <td>99804</td>\n",
       "      <td>60.0</td>\n",
       "      <td>60.0</td>\n",
       "      <td>25</td>\n",
       "    </tr>\n",
       "    <tr>\n",
       "      <th>3</th>\n",
       "      <td>None</td>\n",
       "      <td>1010610006</td>\n",
       "      <td>0.0</td>\n",
       "      <td>28.57</td>\n",
       "      <td>1010610006</td>\n",
       "      <td>1910</td>\n",
       "      <td>{2BE9F674-67E7-4A49-8535-F636A16D8DA5}</td>\n",
       "      <td>Constructed</td>\n",
       "      <td>2100</td>\n",
       "      <td>40</td>\n",
       "      <td>Photogramm</td>\n",
       "      <td>1026714</td>\n",
       "      <td>2017-08-22</td>\n",
       "      <td>23730</td>\n",
       "      <td>MULTIPOLYGON (((986858.328 218070.430, 986839....</td>\n",
       "      <td>103068</td>\n",
       "      <td>32.0</td>\n",
       "      <td>32.0</td>\n",
       "      <td>25</td>\n",
       "    </tr>\n",
       "    <tr>\n",
       "      <th>4</th>\n",
       "      <td>None</td>\n",
       "      <td>1003060013</td>\n",
       "      <td>0.0</td>\n",
       "      <td>73.13</td>\n",
       "      <td>1003060013</td>\n",
       "      <td>1900</td>\n",
       "      <td>{2403088E-77A6-4071-8B5E-D54AFBC720D9}</td>\n",
       "      <td>Constructed</td>\n",
       "      <td>2100</td>\n",
       "      <td>39</td>\n",
       "      <td>Photogramm</td>\n",
       "      <td>1003956</td>\n",
       "      <td>2017-08-22</td>\n",
       "      <td>512541</td>\n",
       "      <td>MULTIPOLYGON (((986180.396 200723.234, 986187....</td>\n",
       "      <td>92425</td>\n",
       "      <td>34.0</td>\n",
       "      <td>45.0</td>\n",
       "      <td>25</td>\n",
       "    </tr>\n",
       "  </tbody>\n",
       "</table>\n",
       "</div>"
      ],
      "text/plain": [
       "   name    base_bbl shape_area_left    heightroof  mpluto_bbl cnstrct_yr  \\\n",
       "0  None  1021210037             0.0     59.722628  1021210037       1910   \n",
       "1  None  1008870001             0.0        155.49  1008870001       1935   \n",
       "2  None  1013490035             0.0  167.21446831  1013490035       1931   \n",
       "3  None  1010610006             0.0         28.57  1010610006       1910   \n",
       "4  None  1003060013             0.0         73.13  1003060013       1900   \n",
       "\n",
       "                                 globalid   lststatype feat_code groundelev  \\\n",
       "0  {A0E56BCC-A86B-4CEF-9A42-9B4ECD61743F}  Constructed      2100        154   \n",
       "1  {0B06F7A8-1F83-44F3-97DD-AC524A6374CA}  Constructed      2100         37   \n",
       "2  {A091951D-C73E-4B77-9A61-716C666C5446}  Constructed      2100         52   \n",
       "3  {2BE9F674-67E7-4A49-8535-F636A16D8DA5}  Constructed      2100         40   \n",
       "4  {2403088E-77A6-4071-8B5E-D54AFBC720D9}  Constructed      2100         39   \n",
       "\n",
       "   geomsource      bin lstmoddate doitt_id  \\\n",
       "0  Photogramm  1062896 2017-08-22   708881   \n",
       "1  Photogramm  1018457 2017-08-22   584238   \n",
       "2  Photogramm  1039988 2017-08-22    66240   \n",
       "3  Photogramm  1026714 2017-08-22    23730   \n",
       "4  Photogramm  1003956 2017-08-22   512541   \n",
       "\n",
       "                                            geometry  OBJECTID  \\\n",
       "0  MULTIPOLYGON (((1001211.761 244524.798, 100123...    100007   \n",
       "1  MULTIPOLYGON (((989135.970 210787.603, 989181....    101045   \n",
       "2  MULTIPOLYGON (((994153.480 215659.003, 994165....     99804   \n",
       "3  MULTIPOLYGON (((986858.328 218070.430, 986839....    103068   \n",
       "4  MULTIPOLYGON (((986180.396 200723.234, 986187....     92425   \n",
       "\n",
       "   StreetWidth_Min  StreetWidth_Max POSTED_SPEED  \n",
       "0             60.0             60.0           25  \n",
       "1             32.0             32.0           25  \n",
       "2             60.0             60.0           25  \n",
       "3             32.0             32.0           25  \n",
       "4             34.0             45.0           25  "
      ]
     },
     "execution_count": 8,
     "metadata": {},
     "output_type": "execute_result"
    }
   ],
   "source": [
    "gdf_building_manhattan.head()"
   ]
  },
  {
   "cell_type": "markdown",
   "metadata": {},
   "source": [
    "## Calculate the nearest subway station"
   ]
  },
  {
   "cell_type": "code",
   "execution_count": 9,
   "metadata": {},
   "outputs": [],
   "source": [
    "df_station = pd.read_csv('../../data/raw/mta_station/MTA_Subway_Stations.csv')"
   ]
  },
  {
   "cell_type": "code",
   "execution_count": 10,
   "metadata": {},
   "outputs": [],
   "source": [
    "points = [Point(float(lat),float(long)) for lat, long in zip(df_station.loc[:,'GTFS Longitude'], df_station.loc[:,'GTFS Latitude'])]\n",
    "gdf_station = gpd.GeoDataFrame(df_station, geometry=points, crs=4326)\n",
    "gdf_station = gdf_station.to_crs(2263)"
   ]
  },
  {
   "cell_type": "code",
   "execution_count": 11,
   "metadata": {},
   "outputs": [],
   "source": [
    "gdf_building_manhattan = gdf_building_manhattan.sjoin_nearest(gdf_station.loc[:,['GTFS Stop ID','geometry']], distance_col='distance_from_station(ft)').drop('index_right', axis=1)\n",
    "# because duplicated rows created during the spatial join process, I dropped\n",
    "gdf_building_manhattan = gdf_building_manhattan.drop_duplicates(subset=['base_bbl','mpluto_bbl','globalid'])"
   ]
  },
  {
   "cell_type": "code",
   "execution_count": 12,
   "metadata": {},
   "outputs": [],
   "source": [
    "gdf_building_manhattan = gdf_building_manhattan.drop(['name','OBJECTID','shape_area_left','lststatype','feat_code', 'groundelev','geomsource', 'lstmoddate', 'doitt_id'], axis=1)"
   ]
  },
  {
   "cell_type": "code",
   "execution_count": 13,
   "metadata": {},
   "outputs": [
    {
     "data": {
      "text/html": [
       "<div>\n",
       "<style scoped>\n",
       "    .dataframe tbody tr th:only-of-type {\n",
       "        vertical-align: middle;\n",
       "    }\n",
       "\n",
       "    .dataframe tbody tr th {\n",
       "        vertical-align: top;\n",
       "    }\n",
       "\n",
       "    .dataframe thead th {\n",
       "        text-align: right;\n",
       "    }\n",
       "</style>\n",
       "<table border=\"1\" class=\"dataframe\">\n",
       "  <thead>\n",
       "    <tr style=\"text-align: right;\">\n",
       "      <th></th>\n",
       "      <th>base_bbl</th>\n",
       "      <th>heightroof</th>\n",
       "      <th>mpluto_bbl</th>\n",
       "      <th>cnstrct_yr</th>\n",
       "      <th>globalid</th>\n",
       "      <th>bin</th>\n",
       "      <th>geometry</th>\n",
       "      <th>StreetWidth_Min</th>\n",
       "      <th>StreetWidth_Max</th>\n",
       "      <th>POSTED_SPEED</th>\n",
       "      <th>GTFS Stop ID</th>\n",
       "      <th>distance_from_station(ft)</th>\n",
       "    </tr>\n",
       "  </thead>\n",
       "  <tbody>\n",
       "    <tr>\n",
       "      <th>0</th>\n",
       "      <td>1021210037</td>\n",
       "      <td>59.722628</td>\n",
       "      <td>1021210037</td>\n",
       "      <td>1910</td>\n",
       "      <td>{A0E56BCC-A86B-4CEF-9A42-9B4ECD61743F}</td>\n",
       "      <td>1062896</td>\n",
       "      <td>MULTIPOLYGON (((1001211.761 244524.798, 100123...</td>\n",
       "      <td>60.0</td>\n",
       "      <td>60.0</td>\n",
       "      <td>25</td>\n",
       "      <td>A10</td>\n",
       "      <td>705.429228</td>\n",
       "    </tr>\n",
       "    <tr>\n",
       "      <th>1</th>\n",
       "      <td>1008870001</td>\n",
       "      <td>155.49</td>\n",
       "      <td>1008870001</td>\n",
       "      <td>1935</td>\n",
       "      <td>{0B06F7A8-1F83-44F3-97DD-AC524A6374CA}</td>\n",
       "      <td>1018457</td>\n",
       "      <td>MULTIPOLYGON (((989135.970 210787.603, 989181....</td>\n",
       "      <td>32.0</td>\n",
       "      <td>32.0</td>\n",
       "      <td>25</td>\n",
       "      <td>632</td>\n",
       "      <td>302.555369</td>\n",
       "    </tr>\n",
       "    <tr>\n",
       "      <th>2</th>\n",
       "      <td>1013490035</td>\n",
       "      <td>167.21446831</td>\n",
       "      <td>1013490035</td>\n",
       "      <td>1931</td>\n",
       "      <td>{A091951D-C73E-4B77-9A61-716C666C5446}</td>\n",
       "      <td>1039988</td>\n",
       "      <td>MULTIPOLYGON (((994153.480 215659.003, 994165....</td>\n",
       "      <td>60.0</td>\n",
       "      <td>60.0</td>\n",
       "      <td>25</td>\n",
       "      <td>F11</td>\n",
       "      <td>1378.469618</td>\n",
       "    </tr>\n",
       "    <tr>\n",
       "      <th>3</th>\n",
       "      <td>1010610006</td>\n",
       "      <td>28.57</td>\n",
       "      <td>1010610006</td>\n",
       "      <td>1910</td>\n",
       "      <td>{2BE9F674-67E7-4A49-8535-F636A16D8DA5}</td>\n",
       "      <td>1026714</td>\n",
       "      <td>MULTIPOLYGON (((986858.328 218070.430, 986839....</td>\n",
       "      <td>32.0</td>\n",
       "      <td>32.0</td>\n",
       "      <td>25</td>\n",
       "      <td>A25</td>\n",
       "      <td>1620.005364</td>\n",
       "    </tr>\n",
       "    <tr>\n",
       "      <th>4</th>\n",
       "      <td>1003060013</td>\n",
       "      <td>73.13</td>\n",
       "      <td>1003060013</td>\n",
       "      <td>1900</td>\n",
       "      <td>{2403088E-77A6-4071-8B5E-D54AFBC720D9}</td>\n",
       "      <td>1003956</td>\n",
       "      <td>MULTIPOLYGON (((986180.396 200723.234, 986187....</td>\n",
       "      <td>34.0</td>\n",
       "      <td>45.0</td>\n",
       "      <td>25</td>\n",
       "      <td>D22</td>\n",
       "      <td>292.273497</td>\n",
       "    </tr>\n",
       "    <tr>\n",
       "      <th>...</th>\n",
       "      <td>...</td>\n",
       "      <td>...</td>\n",
       "      <td>...</td>\n",
       "      <td>...</td>\n",
       "      <td>...</td>\n",
       "      <td>...</td>\n",
       "      <td>...</td>\n",
       "      <td>...</td>\n",
       "      <td>...</td>\n",
       "      <td>...</td>\n",
       "      <td>...</td>\n",
       "      <td>...</td>\n",
       "    </tr>\n",
       "    <tr>\n",
       "      <th>45397</th>\n",
       "      <td>1016000020</td>\n",
       "      <td>125.0</td>\n",
       "      <td>1016000020</td>\n",
       "      <td>2013</td>\n",
       "      <td>{EF73AB4D-5006-4406-ADF9-2FB65FC7B2C8}</td>\n",
       "      <td>1089333</td>\n",
       "      <td>MULTIPOLYGON (((998830.388 231258.315, 998700....</td>\n",
       "      <td>NaN</td>\n",
       "      <td>NaN</td>\n",
       "      <td></td>\n",
       "      <td>226</td>\n",
       "      <td>534.072735</td>\n",
       "    </tr>\n",
       "    <tr>\n",
       "      <th>45398</th>\n",
       "      <td>1000920030</td>\n",
       "      <td>338.0</td>\n",
       "      <td>1000920030</td>\n",
       "      <td>2023</td>\n",
       "      <td>{5CDE3269-D9A3-4732-BBB0-AD92B46BDDF2}</td>\n",
       "      <td>1091002</td>\n",
       "      <td>MULTIPOLYGON (((982522.527 198275.305, 982453....</td>\n",
       "      <td>20.0</td>\n",
       "      <td>22.0</td>\n",
       "      <td>25</td>\n",
       "      <td>M22</td>\n",
       "      <td>311.235059</td>\n",
       "    </tr>\n",
       "    <tr>\n",
       "      <th>45399</th>\n",
       "      <td>1000920032</td>\n",
       "      <td>84.72</td>\n",
       "      <td>1000920032</td>\n",
       "      <td>1925</td>\n",
       "      <td>{5D66351B-DDFF-43FB-A05D-E5A3E861CE1B}</td>\n",
       "      <td>1001278</td>\n",
       "      <td>MULTIPOLYGON (((982550.394 198238.001, 982484....</td>\n",
       "      <td>22.0</td>\n",
       "      <td>24.0</td>\n",
       "      <td>25</td>\n",
       "      <td>M22</td>\n",
       "      <td>330.921614</td>\n",
       "    </tr>\n",
       "    <tr>\n",
       "      <th>45400</th>\n",
       "      <td>1017080003</td>\n",
       "      <td>53.48</td>\n",
       "      <td>1017080003</td>\n",
       "      <td>1900</td>\n",
       "      <td>{1B8DDD75-71EA-44FA-A2DD-213D6A98D390}</td>\n",
       "      <td>1079371</td>\n",
       "      <td>MULTIPOLYGON (((1002022.923 228852.265, 100200...</td>\n",
       "      <td>70.0</td>\n",
       "      <td>70.0</td>\n",
       "      <td>25</td>\n",
       "      <td>622</td>\n",
       "      <td>2053.559959</td>\n",
       "    </tr>\n",
       "    <tr>\n",
       "      <th>45401</th>\n",
       "      <td>1010270012</td>\n",
       "      <td>645.0</td>\n",
       "      <td>1010277503</td>\n",
       "      <td>None</td>\n",
       "      <td>{B666EAA5-9463-42C6-B7DE-81C7E7C7E5EE}</td>\n",
       "      <td>1086135</td>\n",
       "      <td>MULTIPOLYGON (((989139.832 217947.997, 989139....</td>\n",
       "      <td>30.0</td>\n",
       "      <td>30.0</td>\n",
       "      <td>25</td>\n",
       "      <td>R14</td>\n",
       "      <td>474.746514</td>\n",
       "    </tr>\n",
       "  </tbody>\n",
       "</table>\n",
       "<p>45402 rows × 12 columns</p>\n",
       "</div>"
      ],
      "text/plain": [
       "         base_bbl    heightroof  mpluto_bbl cnstrct_yr  \\\n",
       "0      1021210037     59.722628  1021210037       1910   \n",
       "1      1008870001        155.49  1008870001       1935   \n",
       "2      1013490035  167.21446831  1013490035       1931   \n",
       "3      1010610006         28.57  1010610006       1910   \n",
       "4      1003060013         73.13  1003060013       1900   \n",
       "...           ...           ...         ...        ...   \n",
       "45397  1016000020         125.0  1016000020       2013   \n",
       "45398  1000920030         338.0  1000920030       2023   \n",
       "45399  1000920032         84.72  1000920032       1925   \n",
       "45400  1017080003         53.48  1017080003       1900   \n",
       "45401  1010270012         645.0  1010277503       None   \n",
       "\n",
       "                                     globalid      bin  \\\n",
       "0      {A0E56BCC-A86B-4CEF-9A42-9B4ECD61743F}  1062896   \n",
       "1      {0B06F7A8-1F83-44F3-97DD-AC524A6374CA}  1018457   \n",
       "2      {A091951D-C73E-4B77-9A61-716C666C5446}  1039988   \n",
       "3      {2BE9F674-67E7-4A49-8535-F636A16D8DA5}  1026714   \n",
       "4      {2403088E-77A6-4071-8B5E-D54AFBC720D9}  1003956   \n",
       "...                                       ...      ...   \n",
       "45397  {EF73AB4D-5006-4406-ADF9-2FB65FC7B2C8}  1089333   \n",
       "45398  {5CDE3269-D9A3-4732-BBB0-AD92B46BDDF2}  1091002   \n",
       "45399  {5D66351B-DDFF-43FB-A05D-E5A3E861CE1B}  1001278   \n",
       "45400  {1B8DDD75-71EA-44FA-A2DD-213D6A98D390}  1079371   \n",
       "45401  {B666EAA5-9463-42C6-B7DE-81C7E7C7E5EE}  1086135   \n",
       "\n",
       "                                                geometry  StreetWidth_Min  \\\n",
       "0      MULTIPOLYGON (((1001211.761 244524.798, 100123...             60.0   \n",
       "1      MULTIPOLYGON (((989135.970 210787.603, 989181....             32.0   \n",
       "2      MULTIPOLYGON (((994153.480 215659.003, 994165....             60.0   \n",
       "3      MULTIPOLYGON (((986858.328 218070.430, 986839....             32.0   \n",
       "4      MULTIPOLYGON (((986180.396 200723.234, 986187....             34.0   \n",
       "...                                                  ...              ...   \n",
       "45397  MULTIPOLYGON (((998830.388 231258.315, 998700....              NaN   \n",
       "45398  MULTIPOLYGON (((982522.527 198275.305, 982453....             20.0   \n",
       "45399  MULTIPOLYGON (((982550.394 198238.001, 982484....             22.0   \n",
       "45400  MULTIPOLYGON (((1002022.923 228852.265, 100200...             70.0   \n",
       "45401  MULTIPOLYGON (((989139.832 217947.997, 989139....             30.0   \n",
       "\n",
       "       StreetWidth_Max POSTED_SPEED GTFS Stop ID  distance_from_station(ft)  \n",
       "0                 60.0           25          A10                 705.429228  \n",
       "1                 32.0           25          632                 302.555369  \n",
       "2                 60.0           25          F11                1378.469618  \n",
       "3                 32.0           25          A25                1620.005364  \n",
       "4                 45.0           25          D22                 292.273497  \n",
       "...                ...          ...          ...                        ...  \n",
       "45397              NaN                       226                 534.072735  \n",
       "45398             22.0           25          M22                 311.235059  \n",
       "45399             24.0           25          M22                 330.921614  \n",
       "45400             70.0           25          622                2053.559959  \n",
       "45401             30.0           25          R14                 474.746514  \n",
       "\n",
       "[45402 rows x 12 columns]"
      ]
     },
     "execution_count": 13,
     "metadata": {},
     "output_type": "execute_result"
    }
   ],
   "source": [
    "gdf_building_manhattan"
   ]
  },
  {
   "cell_type": "markdown",
   "metadata": {},
   "source": [
    "## Mappindg AADT 2019 ~ 2021"
   ]
  },
  {
   "cell_type": "code",
   "execution_count": 14,
   "metadata": {},
   "outputs": [],
   "source": [
    "gdf_aadt_2019 = gpd.read_file('../../data/raw/aadt/aadt_2019.geojson').to_crs(2263)\n",
    "gdf_aadt_2020 = gpd.read_file('../../data/raw/aadt/aadt_2020.geojson').to_crs(2263)\n",
    "gdf_aadt_2021 = gpd.read_file('../../data/raw/aadt/aadt_2021.geojson').to_crs(2263)\n",
    "\n",
    "\n",
    "gdf_aadt_2019 =  gdf_aadt_2019.loc[np.logical_not(gdf_aadt_2019.loc[:,'AADT'].isnull())]\n",
    "gdf_aadt_2020 =  gdf_aadt_2020.loc[np.logical_not(gdf_aadt_2020.loc[:,'MAT_ALH_2020_csv_AADT'].isnull())].rename(columns={'MAT_ALH_2020_csv_AADT':'AADT'})\n",
    "gdf_aadt_2021 =  gdf_aadt_2021.loc[np.logical_not(gdf_aadt_2021.loc[:,'MAT_ALH_2021_csv_AADT'].isnull())].rename(columns={'MAT_ALH_2021_csv_AADT':'AADT'})"
   ]
  },
  {
   "cell_type": "code",
   "execution_count": 15,
   "metadata": {},
   "outputs": [],
   "source": [
    "def calculate_idw_aadt_average(building, gdf_aadt):\n",
    "    \n",
    "    distances = gdf_aadt.distance(building)\n",
    "    inverse_distance_weighted_traffic = np.average(gdf_aadt['AADT'], weights = 1/(distances + 1))\n",
    "\n",
    "    return inverse_distance_weighted_traffic"
   ]
  },
  {
   "cell_type": "code",
   "execution_count": 17,
   "metadata": {},
   "outputs": [
    {
     "name": "stderr",
     "output_type": "stream",
     "text": [
      "Applying function: 100%|██████████| 45402/45402 [19:17<00:00, 39.22it/s]  \n"
     ]
    }
   ],
   "source": [
    "gdf_building_manhattan.loc[:,'idw_aadt_2019'] = gdf_building_manhattan.loc[:,'geometry'].progress_apply(lambda x: calculate_idw_aadt_average(x, gdf_aadt_2019))"
   ]
  },
  {
   "cell_type": "code",
   "execution_count": 18,
   "metadata": {},
   "outputs": [
    {
     "name": "stderr",
     "output_type": "stream",
     "text": [
      "Applying function: 100%|██████████| 45402/45402 [07:18<00:00, 103.54it/s]\n"
     ]
    }
   ],
   "source": [
    "gdf_building_manhattan.loc[:,'idw_aadt_2020'] = gdf_building_manhattan.loc[:,'geometry'].progress_apply(lambda x: calculate_idw_aadt_average(x, gdf_aadt_2020))"
   ]
  },
  {
   "cell_type": "code",
   "execution_count": 19,
   "metadata": {},
   "outputs": [
    {
     "name": "stderr",
     "output_type": "stream",
     "text": [
      "Applying function: 100%|██████████| 45402/45402 [07:33<00:00, 100.08it/s]\n"
     ]
    }
   ],
   "source": [
    "gdf_building_manhattan.loc[:,'idw_aadt_2021'] = gdf_building_manhattan.loc[:,'geometry'].progress_apply(lambda x: calculate_idw_aadt_average(x, gdf_aadt_2021))"
   ]
  },
  {
   "cell_type": "code",
   "execution_count": 25,
   "metadata": {},
   "outputs": [],
   "source": [
    "gdf_building_manhattan.drop('globalid', axis=1).to_crs(4326).to_file('../../data/processed/building.geojson', driver='GeoJSON')"
   ]
  },
  {
   "cell_type": "code",
   "execution_count": null,
   "metadata": {},
   "outputs": [],
   "source": []
  }
 ],
 "metadata": {
  "kernelspec": {
   "display_name": "teamgigo",
   "language": "python",
   "name": "python3"
  },
  "language_info": {
   "codemirror_mode": {
    "name": "ipython",
    "version": 3
   },
   "file_extension": ".py",
   "mimetype": "text/x-python",
   "name": "python",
   "nbconvert_exporter": "python",
   "pygments_lexer": "ipython3",
   "version": "3.12.2"
  }
 },
 "nbformat": 4,
 "nbformat_minor": 2
}
