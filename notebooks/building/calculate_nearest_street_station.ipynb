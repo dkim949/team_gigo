{
 "cells": [
  {
   "cell_type": "code",
   "execution_count": 1,
   "metadata": {},
   "outputs": [],
   "source": [
    "import pandas as pd\n",
    "import geopandas as gpd"
   ]
  },
  {
   "cell_type": "markdown",
   "metadata": {},
   "source": [
    "## Filter with the Manhattan boundary\n",
    "\n",
    "Please do not start this part if you have the `building_manhattan.geojson` file"
   ]
  },
  {
   "cell_type": "code",
   "execution_count": 2,
   "metadata": {},
   "outputs": [],
   "source": [
    "# import dataset (from https://data.cityofnewyork.us/Housing-Development/Building-Footprints/nqwf-w8eh)\n",
    "gdf_building = gpd.read_file('../../data/raw/building/Building Footprints.geojson')"
   ]
  },
  {
   "cell_type": "code",
   "execution_count": null,
   "metadata": {},
   "outputs": [],
   "source": [
    "# filtering buildings with the Manhattan boundary\n",
    "gdf_manhattan = gpd.read_file('../../data/raw/boundary/Borough Boundaries.geojson')\n",
    "gdf_manhattan = gdf_manhattan.loc[gdf_manhattan.loc[:,'boro_name'] == 'Manhattan']\n",
    "\n",
    "gdf_building_manhattan = gpd.sjoin(gdf_building, gdf_manhattan, how='inner', op='intersects')"
   ]
  },
  {
   "cell_type": "code",
   "execution_count": null,
   "metadata": {},
   "outputs": [],
   "source": [
    "gdf_building_manhattan.to_file('../../data/raw/building/building_manhattan.geojson', driver='GeoJSON')"
   ]
  },
  {
   "cell_type": "markdown",
   "metadata": {},
   "source": [
    "## Calculate the nearest street"
   ]
  },
  {
   "cell_type": "code",
   "execution_count": 25,
   "metadata": {},
   "outputs": [],
   "source": [
    "gdf_building_manhattan = gpd.read_file('../../data/raw/building/building_manhattan.geojson')\n",
    "gdf_streets = gpd.read_file('../../data/raw/lion/edges_manhattan.geojson')\n",
    "\n",
    "gdf_building_manhattan = gdf_building_manhattan.drop(['shape_len','index_right', 'boro_code', 'boro_name', 'shape_area_right','shape_leng'], axis=1)"
   ]
  },
  {
   "cell_type": "code",
   "execution_count": 26,
   "metadata": {},
   "outputs": [
    {
     "data": {
      "text/plain": [
       "True"
      ]
     },
     "execution_count": 26,
     "metadata": {},
     "output_type": "execute_result"
    }
   ],
   "source": [
    "# unify the coordinates systems\n",
    "gdf_building_manhattan = gdf_building_manhattan.to_crs(2263)\n",
    "gdf_streets.crs == gdf_building_manhattan.crs"
   ]
  },
  {
   "cell_type": "code",
   "execution_count": 27,
   "metadata": {},
   "outputs": [],
   "source": [
    "gdf_building_manhattan = gdf_building_manhattan.sjoin_nearest(gdf_streets.loc[:,['OBJECTID','StreetWidth_Min','StreetWidth_Max','POSTED_SPEED','geometry']])\n",
    "\n",
    "# because duplicated rows created during the spatial join process, I dropped\n",
    "gdf_building_manhattan = gdf_building_manhattan.drop_duplicates(subset=['base_bbl','mpluto_bbl','globalid']).drop('index_right', axis=1)"
   ]
  },
  {
   "cell_type": "code",
   "execution_count": 32,
   "metadata": {},
   "outputs": [
    {
     "data": {
      "text/html": [
       "<div>\n",
       "<style scoped>\n",
       "    .dataframe tbody tr th:only-of-type {\n",
       "        vertical-align: middle;\n",
       "    }\n",
       "\n",
       "    .dataframe tbody tr th {\n",
       "        vertical-align: top;\n",
       "    }\n",
       "\n",
       "    .dataframe thead th {\n",
       "        text-align: right;\n",
       "    }\n",
       "</style>\n",
       "<table border=\"1\" class=\"dataframe\">\n",
       "  <thead>\n",
       "    <tr style=\"text-align: right;\">\n",
       "      <th></th>\n",
       "      <th>name</th>\n",
       "      <th>base_bbl</th>\n",
       "      <th>shape_area_left</th>\n",
       "      <th>heightroof</th>\n",
       "      <th>mpluto_bbl</th>\n",
       "      <th>cnstrct_yr</th>\n",
       "      <th>globalid</th>\n",
       "      <th>lststatype</th>\n",
       "      <th>feat_code</th>\n",
       "      <th>groundelev</th>\n",
       "      <th>geomsource</th>\n",
       "      <th>bin</th>\n",
       "      <th>lstmoddate</th>\n",
       "      <th>doitt_id</th>\n",
       "      <th>geometry</th>\n",
       "      <th>OBJECTID</th>\n",
       "      <th>StreetWidth_Min</th>\n",
       "      <th>StreetWidth_Max</th>\n",
       "      <th>POSTED_SPEED</th>\n",
       "    </tr>\n",
       "  </thead>\n",
       "  <tbody>\n",
       "    <tr>\n",
       "      <th>0</th>\n",
       "      <td>None</td>\n",
       "      <td>1021210037</td>\n",
       "      <td>0.0</td>\n",
       "      <td>59.722628</td>\n",
       "      <td>1021210037</td>\n",
       "      <td>1910</td>\n",
       "      <td>{A0E56BCC-A86B-4CEF-9A42-9B4ECD61743F}</td>\n",
       "      <td>Constructed</td>\n",
       "      <td>2100</td>\n",
       "      <td>154</td>\n",
       "      <td>Photogramm</td>\n",
       "      <td>1062896</td>\n",
       "      <td>2017-08-22</td>\n",
       "      <td>708881</td>\n",
       "      <td>MULTIPOLYGON (((1001211.761 244524.798, 100123...</td>\n",
       "      <td>100007</td>\n",
       "      <td>60.0</td>\n",
       "      <td>60.0</td>\n",
       "      <td>25</td>\n",
       "    </tr>\n",
       "    <tr>\n",
       "      <th>1</th>\n",
       "      <td>None</td>\n",
       "      <td>1008870001</td>\n",
       "      <td>0.0</td>\n",
       "      <td>155.49</td>\n",
       "      <td>1008870001</td>\n",
       "      <td>1935</td>\n",
       "      <td>{0B06F7A8-1F83-44F3-97DD-AC524A6374CA}</td>\n",
       "      <td>Constructed</td>\n",
       "      <td>2100</td>\n",
       "      <td>37</td>\n",
       "      <td>Photogramm</td>\n",
       "      <td>1018457</td>\n",
       "      <td>2017-08-22</td>\n",
       "      <td>584238</td>\n",
       "      <td>MULTIPOLYGON (((989135.970 210787.603, 989181....</td>\n",
       "      <td>101046</td>\n",
       "      <td>32.0</td>\n",
       "      <td>32.0</td>\n",
       "      <td>25</td>\n",
       "    </tr>\n",
       "    <tr>\n",
       "      <th>2</th>\n",
       "      <td>None</td>\n",
       "      <td>1013490035</td>\n",
       "      <td>0.0</td>\n",
       "      <td>167.21446831</td>\n",
       "      <td>1013490035</td>\n",
       "      <td>1931</td>\n",
       "      <td>{A091951D-C73E-4B77-9A61-716C666C5446}</td>\n",
       "      <td>Constructed</td>\n",
       "      <td>2100</td>\n",
       "      <td>52</td>\n",
       "      <td>Photogramm</td>\n",
       "      <td>1039988</td>\n",
       "      <td>2017-08-22</td>\n",
       "      <td>66240</td>\n",
       "      <td>MULTIPOLYGON (((994153.480 215659.003, 994165....</td>\n",
       "      <td>99804</td>\n",
       "      <td>60.0</td>\n",
       "      <td>60.0</td>\n",
       "      <td>25</td>\n",
       "    </tr>\n",
       "    <tr>\n",
       "      <th>3</th>\n",
       "      <td>None</td>\n",
       "      <td>1010610006</td>\n",
       "      <td>0.0</td>\n",
       "      <td>28.57</td>\n",
       "      <td>1010610006</td>\n",
       "      <td>1910</td>\n",
       "      <td>{2BE9F674-67E7-4A49-8535-F636A16D8DA5}</td>\n",
       "      <td>Constructed</td>\n",
       "      <td>2100</td>\n",
       "      <td>40</td>\n",
       "      <td>Photogramm</td>\n",
       "      <td>1026714</td>\n",
       "      <td>2017-08-22</td>\n",
       "      <td>23730</td>\n",
       "      <td>MULTIPOLYGON (((986858.328 218070.430, 986839....</td>\n",
       "      <td>103068</td>\n",
       "      <td>32.0</td>\n",
       "      <td>32.0</td>\n",
       "      <td>25</td>\n",
       "    </tr>\n",
       "    <tr>\n",
       "      <th>4</th>\n",
       "      <td>None</td>\n",
       "      <td>1003060013</td>\n",
       "      <td>0.0</td>\n",
       "      <td>73.13</td>\n",
       "      <td>1003060013</td>\n",
       "      <td>1900</td>\n",
       "      <td>{2403088E-77A6-4071-8B5E-D54AFBC720D9}</td>\n",
       "      <td>Constructed</td>\n",
       "      <td>2100</td>\n",
       "      <td>39</td>\n",
       "      <td>Photogramm</td>\n",
       "      <td>1003956</td>\n",
       "      <td>2017-08-22</td>\n",
       "      <td>512541</td>\n",
       "      <td>MULTIPOLYGON (((986180.396 200723.234, 986187....</td>\n",
       "      <td>92425</td>\n",
       "      <td>34.0</td>\n",
       "      <td>45.0</td>\n",
       "      <td>25</td>\n",
       "    </tr>\n",
       "  </tbody>\n",
       "</table>\n",
       "</div>"
      ],
      "text/plain": [
       "   name    base_bbl shape_area_left    heightroof  mpluto_bbl cnstrct_yr  \\\n",
       "0  None  1021210037             0.0     59.722628  1021210037       1910   \n",
       "1  None  1008870001             0.0        155.49  1008870001       1935   \n",
       "2  None  1013490035             0.0  167.21446831  1013490035       1931   \n",
       "3  None  1010610006             0.0         28.57  1010610006       1910   \n",
       "4  None  1003060013             0.0         73.13  1003060013       1900   \n",
       "\n",
       "                                 globalid   lststatype feat_code groundelev  \\\n",
       "0  {A0E56BCC-A86B-4CEF-9A42-9B4ECD61743F}  Constructed      2100        154   \n",
       "1  {0B06F7A8-1F83-44F3-97DD-AC524A6374CA}  Constructed      2100         37   \n",
       "2  {A091951D-C73E-4B77-9A61-716C666C5446}  Constructed      2100         52   \n",
       "3  {2BE9F674-67E7-4A49-8535-F636A16D8DA5}  Constructed      2100         40   \n",
       "4  {2403088E-77A6-4071-8B5E-D54AFBC720D9}  Constructed      2100         39   \n",
       "\n",
       "   geomsource      bin lstmoddate doitt_id  \\\n",
       "0  Photogramm  1062896 2017-08-22   708881   \n",
       "1  Photogramm  1018457 2017-08-22   584238   \n",
       "2  Photogramm  1039988 2017-08-22    66240   \n",
       "3  Photogramm  1026714 2017-08-22    23730   \n",
       "4  Photogramm  1003956 2017-08-22   512541   \n",
       "\n",
       "                                            geometry  OBJECTID  \\\n",
       "0  MULTIPOLYGON (((1001211.761 244524.798, 100123...    100007   \n",
       "1  MULTIPOLYGON (((989135.970 210787.603, 989181....    101046   \n",
       "2  MULTIPOLYGON (((994153.480 215659.003, 994165....     99804   \n",
       "3  MULTIPOLYGON (((986858.328 218070.430, 986839....    103068   \n",
       "4  MULTIPOLYGON (((986180.396 200723.234, 986187....     92425   \n",
       "\n",
       "   StreetWidth_Min  StreetWidth_Max POSTED_SPEED  \n",
       "0             60.0             60.0           25  \n",
       "1             32.0             32.0           25  \n",
       "2             60.0             60.0           25  \n",
       "3             32.0             32.0           25  \n",
       "4             34.0             45.0           25  "
      ]
     },
     "execution_count": 32,
     "metadata": {},
     "output_type": "execute_result"
    }
   ],
   "source": [
    "gdf_building_manhattan.head()"
   ]
  },
  {
   "cell_type": "markdown",
   "metadata": {},
   "source": []
  }
 ],
 "metadata": {
  "kernelspec": {
   "display_name": "teamgigo",
   "language": "python",
   "name": "python3"
  },
  "language_info": {
   "codemirror_mode": {
    "name": "ipython",
    "version": 3
   },
   "file_extension": ".py",
   "mimetype": "text/x-python",
   "name": "python",
   "nbconvert_exporter": "python",
   "pygments_lexer": "ipython3",
   "version": "3.12.2"
  }
 },
 "nbformat": 4,
 "nbformat_minor": 2
}
