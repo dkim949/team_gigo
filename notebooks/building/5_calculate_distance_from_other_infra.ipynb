{
 "cells": [
  {
   "cell_type": "code",
   "execution_count": 1,
   "metadata": {},
   "outputs": [],
   "source": [
    "import numpy as np\n",
    "import pandas as pd\n",
    "import geopandas as gpd\n",
    "\n",
    "from tqdm import tqdm\n",
    "tqdm.pandas(desc=\"Applying function\")\n",
    "\n",
    "from shapely.geometry import Point"
   ]
  },
  {
   "cell_type": "code",
   "execution_count": 2,
   "metadata": {},
   "outputs": [],
   "source": [
    "gdf_buildings = gpd.read_file('../../data/processed/building/building_sample.geojson')"
   ]
  },
  {
   "cell_type": "code",
   "execution_count": 3,
   "metadata": {},
   "outputs": [
    {
     "data": {
      "text/html": [
       "<div>\n",
       "<style scoped>\n",
       "    .dataframe tbody tr th:only-of-type {\n",
       "        vertical-align: middle;\n",
       "    }\n",
       "\n",
       "    .dataframe tbody tr th {\n",
       "        vertical-align: top;\n",
       "    }\n",
       "\n",
       "    .dataframe thead th {\n",
       "        text-align: right;\n",
       "    }\n",
       "</style>\n",
       "<table border=\"1\" class=\"dataframe\">\n",
       "  <thead>\n",
       "    <tr style=\"text-align: right;\">\n",
       "      <th></th>\n",
       "      <th>height</th>\n",
       "      <th>mpluto_bbl</th>\n",
       "      <th>cnstrct_yr</th>\n",
       "      <th>globalid</th>\n",
       "      <th>bin</th>\n",
       "      <th>shape_len</th>\n",
       "      <th>shape_area</th>\n",
       "      <th>office_area</th>\n",
       "      <th>retail_area</th>\n",
       "      <th>residential_area</th>\n",
       "      <th>...</th>\n",
       "      <th>idw_aadt_2019</th>\n",
       "      <th>idw_aadt_2020</th>\n",
       "      <th>idw_aadt_2021</th>\n",
       "      <th>idw_atvc_2018</th>\n",
       "      <th>idw_atvc_2019</th>\n",
       "      <th>idw_atvc_2020</th>\n",
       "      <th>office_within_450ft</th>\n",
       "      <th>retail_within_450ft</th>\n",
       "      <th>residential_within_450ft</th>\n",
       "      <th>geometry</th>\n",
       "    </tr>\n",
       "  </thead>\n",
       "  <tbody>\n",
       "    <tr>\n",
       "      <th>0</th>\n",
       "      <td>55.89</td>\n",
       "      <td>1006100054</td>\n",
       "      <td>1890</td>\n",
       "      <td>{3AEADBE0-CC54-4D24-B238-035EACC2FCA7}</td>\n",
       "      <td>1010689</td>\n",
       "      <td>0.0</td>\n",
       "      <td>636520502.758</td>\n",
       "      <td>0</td>\n",
       "      <td>1050</td>\n",
       "      <td>8294</td>\n",
       "      <td>...</td>\n",
       "      <td>7193.081669</td>\n",
       "      <td>7412.369895</td>\n",
       "      <td>8350.144642</td>\n",
       "      <td>123.350334</td>\n",
       "      <td>147.058962</td>\n",
       "      <td>304.025386</td>\n",
       "      <td>2120</td>\n",
       "      <td>52008</td>\n",
       "      <td>312275</td>\n",
       "      <td>MULTIPOLYGON (((984248.206 206864.602, 984228....</td>\n",
       "    </tr>\n",
       "    <tr>\n",
       "      <th>1</th>\n",
       "      <td>43.48</td>\n",
       "      <td>1014390003</td>\n",
       "      <td>1920</td>\n",
       "      <td>{16E3A900-8D55-4377-ABC9-3CFEAD5AABEA}</td>\n",
       "      <td>1044690</td>\n",
       "      <td>None</td>\n",
       "      <td>636520502.758</td>\n",
       "      <td>0</td>\n",
       "      <td>2175</td>\n",
       "      <td>6525</td>\n",
       "      <td>...</td>\n",
       "      <td>12988.853950</td>\n",
       "      <td>12048.318975</td>\n",
       "      <td>13486.718605</td>\n",
       "      <td>151.540038</td>\n",
       "      <td>189.112186</td>\n",
       "      <td>239.713791</td>\n",
       "      <td>9539</td>\n",
       "      <td>49216</td>\n",
       "      <td>1197236</td>\n",
       "      <td>POINT (994870.595 217574.392)</td>\n",
       "    </tr>\n",
       "    <tr>\n",
       "      <th>2</th>\n",
       "      <td>164.86</td>\n",
       "      <td>1011480001</td>\n",
       "      <td>1925</td>\n",
       "      <td>{A569DF64-C060-4E22-A45B-C3AAF3994CF0}</td>\n",
       "      <td>1030169</td>\n",
       "      <td>0.0</td>\n",
       "      <td>636520502.758</td>\n",
       "      <td>0</td>\n",
       "      <td>5000</td>\n",
       "      <td>118840</td>\n",
       "      <td>...</td>\n",
       "      <td>13677.792850</td>\n",
       "      <td>13732.269067</td>\n",
       "      <td>15411.109097</td>\n",
       "      <td>126.416875</td>\n",
       "      <td>155.399025</td>\n",
       "      <td>245.756263</td>\n",
       "      <td>2205</td>\n",
       "      <td>52578</td>\n",
       "      <td>438942</td>\n",
       "      <td>MULTIPOLYGON (((989996.502 223961.988, 989991....</td>\n",
       "    </tr>\n",
       "    <tr>\n",
       "      <th>3</th>\n",
       "      <td>57.41</td>\n",
       "      <td>1019660033</td>\n",
       "      <td>1901</td>\n",
       "      <td>{FF1D608A-A8F9-4BED-8330-01D6E785BBDE}</td>\n",
       "      <td>1084099</td>\n",
       "      <td>0.0</td>\n",
       "      <td>636520502.758</td>\n",
       "      <td>0</td>\n",
       "      <td>3500</td>\n",
       "      <td>15130</td>\n",
       "      <td>...</td>\n",
       "      <td>11736.070949</td>\n",
       "      <td>12900.752001</td>\n",
       "      <td>14449.074278</td>\n",
       "      <td>100.988607</td>\n",
       "      <td>140.355271</td>\n",
       "      <td>284.405716</td>\n",
       "      <td>35299</td>\n",
       "      <td>23925</td>\n",
       "      <td>795466</td>\n",
       "      <td>MULTIPOLYGON (((996485.007 235709.202, 996487....</td>\n",
       "    </tr>\n",
       "    <tr>\n",
       "      <th>4</th>\n",
       "      <td>80.0</td>\n",
       "      <td>1019880018</td>\n",
       "      <td>2017</td>\n",
       "      <td>{F3EEBE92-794C-4F0B-914A-86A784D1532B}</td>\n",
       "      <td>1089415</td>\n",
       "      <td>0.0</td>\n",
       "      <td>636520502.758</td>\n",
       "      <td>2962</td>\n",
       "      <td>0</td>\n",
       "      <td>16905</td>\n",
       "      <td>...</td>\n",
       "      <td>12835.701327</td>\n",
       "      <td>14143.073155</td>\n",
       "      <td>15793.074614</td>\n",
       "      <td>88.857910</td>\n",
       "      <td>146.777034</td>\n",
       "      <td>285.662061</td>\n",
       "      <td>2962</td>\n",
       "      <td>23684</td>\n",
       "      <td>68622</td>\n",
       "      <td>MULTIPOLYGON (((996978.357 237617.591, 997012....</td>\n",
       "    </tr>\n",
       "  </tbody>\n",
       "</table>\n",
       "<p>5 rows × 32 columns</p>\n",
       "</div>"
      ],
      "text/plain": [
       "   height  mpluto_bbl cnstrct_yr                                globalid  \\\n",
       "0   55.89  1006100054       1890  {3AEADBE0-CC54-4D24-B238-035EACC2FCA7}   \n",
       "1   43.48  1014390003       1920  {16E3A900-8D55-4377-ABC9-3CFEAD5AABEA}   \n",
       "2  164.86  1011480001       1925  {A569DF64-C060-4E22-A45B-C3AAF3994CF0}   \n",
       "3   57.41  1019660033       1901  {FF1D608A-A8F9-4BED-8330-01D6E785BBDE}   \n",
       "4    80.0  1019880018       2017  {F3EEBE92-794C-4F0B-914A-86A784D1532B}   \n",
       "\n",
       "       bin shape_len     shape_area  office_area  retail_area  \\\n",
       "0  1010689       0.0  636520502.758            0         1050   \n",
       "1  1044690      None  636520502.758            0         2175   \n",
       "2  1030169       0.0  636520502.758            0         5000   \n",
       "3  1084099       0.0  636520502.758            0         3500   \n",
       "4  1089415       0.0  636520502.758         2962            0   \n",
       "\n",
       "   residential_area  ...  idw_aadt_2019  idw_aadt_2020  idw_aadt_2021  \\\n",
       "0              8294  ...    7193.081669    7412.369895    8350.144642   \n",
       "1              6525  ...   12988.853950   12048.318975   13486.718605   \n",
       "2            118840  ...   13677.792850   13732.269067   15411.109097   \n",
       "3             15130  ...   11736.070949   12900.752001   14449.074278   \n",
       "4             16905  ...   12835.701327   14143.073155   15793.074614   \n",
       "\n",
       "  idw_atvc_2018  idw_atvc_2019  idw_atvc_2020  office_within_450ft  \\\n",
       "0    123.350334     147.058962     304.025386                 2120   \n",
       "1    151.540038     189.112186     239.713791                 9539   \n",
       "2    126.416875     155.399025     245.756263                 2205   \n",
       "3    100.988607     140.355271     284.405716                35299   \n",
       "4     88.857910     146.777034     285.662061                 2962   \n",
       "\n",
       "   retail_within_450ft  residential_within_450ft  \\\n",
       "0                52008                    312275   \n",
       "1                49216                   1197236   \n",
       "2                52578                    438942   \n",
       "3                23925                    795466   \n",
       "4                23684                     68622   \n",
       "\n",
       "                                            geometry  \n",
       "0  MULTIPOLYGON (((984248.206 206864.602, 984228....  \n",
       "1                      POINT (994870.595 217574.392)  \n",
       "2  MULTIPOLYGON (((989996.502 223961.988, 989991....  \n",
       "3  MULTIPOLYGON (((996485.007 235709.202, 996487....  \n",
       "4  MULTIPOLYGON (((996978.357 237617.591, 997012....  \n",
       "\n",
       "[5 rows x 32 columns]"
      ]
     },
     "execution_count": 3,
     "metadata": {},
     "output_type": "execute_result"
    }
   ],
   "source": [
    "gdf_buildings.head()"
   ]
  },
  {
   "cell_type": "code",
   "execution_count": 4,
   "metadata": {},
   "outputs": [
    {
     "data": {
      "text/plain": [
       "<Projected CRS: EPSG:2263>\n",
       "Name: NAD83 / New York Long Island (ftUS)\n",
       "Axis Info [cartesian]:\n",
       "- X[east]: Easting (US survey foot)\n",
       "- Y[north]: Northing (US survey foot)\n",
       "Area of Use:\n",
       "- name: United States (USA) - New York - counties of Bronx; Kings; Nassau; New York; Queens; Richmond; Suffolk.\n",
       "- bounds: (-74.26, 40.47, -71.8, 41.3)\n",
       "Coordinate Operation:\n",
       "- name: SPCS83 New York Long Island zone (US survey foot)\n",
       "- method: Lambert Conic Conformal (2SP)\n",
       "Datum: North American Datum 1983\n",
       "- Ellipsoid: GRS 1980\n",
       "- Prime Meridian: Greenwich"
      ]
     },
     "execution_count": 4,
     "metadata": {},
     "output_type": "execute_result"
    }
   ],
   "source": [
    "gdf_buildings.crs"
   ]
  },
  {
   "cell_type": "markdown",
   "metadata": {},
   "source": [
    "## Distance from Park"
   ]
  },
  {
   "cell_type": "code",
   "execution_count": 5,
   "metadata": {},
   "outputs": [],
   "source": [
    "gdf_parks = gpd.read_file('../../data/raw/Parks Properties_20240405.geojson').to_crs(gdf_buildings.crs)"
   ]
  },
  {
   "cell_type": "code",
   "execution_count": 6,
   "metadata": {},
   "outputs": [],
   "source": [
    "gdf_buildings = gdf_buildings.sjoin_nearest(gdf_parks.loc[:,['geometry']],distance_col='distance_to_park').drop(columns='index_right')"
   ]
  },
  {
   "cell_type": "markdown",
   "metadata": {},
   "source": [
    "## Distance from School"
   ]
  },
  {
   "cell_type": "code",
   "execution_count": 7,
   "metadata": {},
   "outputs": [],
   "source": [
    "df_school = pd.read_csv('../../data/raw/2019_-_2020_School_Locations_20240405.csv')"
   ]
  },
  {
   "cell_type": "code",
   "execution_count": 8,
   "metadata": {},
   "outputs": [],
   "source": [
    "points = [Point(x,y) for x,y in zip(df_school.loc[:, 'LONGITUDE'], df_school.loc[:, 'LATITUDE'])]\n",
    "gdf_school = gpd.GeoDataFrame(df_school, geometry=points, crs=4326)\n",
    "gdf_school = gdf_school.to_crs(gdf_buildings.crs)"
   ]
  },
  {
   "cell_type": "code",
   "execution_count": 9,
   "metadata": {},
   "outputs": [],
   "source": [
    "gdf_buildings = gdf_buildings.sjoin_nearest(gdf_school.loc[:,['geometry']],distance_col='distance_to_school').drop(columns='index_right')"
   ]
  },
  {
   "cell_type": "code",
   "execution_count": 10,
   "metadata": {},
   "outputs": [],
   "source": [
    "gdf_buildings = gdf_buildings.drop_duplicates(subset=['bin'])"
   ]
  },
  {
   "cell_type": "code",
   "execution_count": 11,
   "metadata": {},
   "outputs": [],
   "source": [
    "gdf_buildings.to_file('../../data/processed/building/building_sample.geojson', driver='GeoJSON')"
   ]
  }
 ],
 "metadata": {
  "kernelspec": {
   "display_name": "teamgigo",
   "language": "python",
   "name": "python3"
  },
  "language_info": {
   "codemirror_mode": {
    "name": "ipython",
    "version": 3
   },
   "file_extension": ".py",
   "mimetype": "text/x-python",
   "name": "python",
   "nbconvert_exporter": "python",
   "pygments_lexer": "ipython3",
   "version": "3.12.2"
  }
 },
 "nbformat": 4,
 "nbformat_minor": 2
}
