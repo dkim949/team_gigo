{
 "cells": [
  {
   "cell_type": "code",
   "execution_count": 1,
   "metadata": {},
   "outputs": [],
   "source": [
    "import pandas as pd\n",
    "import geopandas as gpd\n",
    "import joblib\n",
    "\n",
    "model = joblib.load('../../models/model_forest.pkl')\n",
    "scaler = joblib.load('../../models/scaler.pkl')"
   ]
  },
  {
   "cell_type": "code",
   "execution_count": 2,
   "metadata": {},
   "outputs": [],
   "source": [
    "gdf_building = gpd.read_file('../../data/processed/building/building_sample.geojson')"
   ]
  },
  {
   "cell_type": "code",
   "execution_count": 3,
   "metadata": {},
   "outputs": [],
   "source": [
    "gdf_building_copy = gdf_building.copy()"
   ]
  },
  {
   "cell_type": "code",
   "execution_count": 4,
   "metadata": {},
   "outputs": [],
   "source": [
    "gdf_building_copy = gdf_building_copy.rename(columns={'distance_to_park':'dist_park',\n",
    "                            'retail_within_450ft':'retail_450',\n",
    "                            'distance_from_station(ft)':'dist_station',\n",
    "                            'residential_within_450ft':'residential_450',\n",
    "                            'distance_to_school':'dist_school',\n",
    "                            'office_within_450ft':'office_450'})"
   ]
  },
  {
   "cell_type": "code",
   "execution_count": 5,
   "metadata": {},
   "outputs": [],
   "source": [
    "columns = ['dist_park',\n",
    "           'retail_450',\n",
    "           'retail_area',\n",
    "           'dist_station',\n",
    "           'residential_450',\n",
    "           'idw_atvc_mean',\n",
    "           'food_1000',\n",
    "           'food_800',\n",
    "           'idw_aadt_mean',\n",
    "           'residential_area',\n",
    "           'dist_school',\n",
    "           'food_400',\n",
    "           'office_450',\n",
    "           'food_100']"
   ]
  },
  {
   "cell_type": "code",
   "execution_count": 6,
   "metadata": {},
   "outputs": [],
   "source": [
    "X_buidling = gdf_building_copy.loc[:, columns]\n",
    "X_buidling = scaler.transform(X_buidling)\n",
    "X_buidling = pd.DataFrame(X_buidling, columns=columns)\n",
    "y_building = [values[1] for values in model.predict_proba(X_buidling)]"
   ]
  },
  {
   "cell_type": "code",
   "execution_count": 8,
   "metadata": {},
   "outputs": [],
   "source": [
    "gdf_building.loc[:,'probability'] = y_building"
   ]
  },
  {
   "cell_type": "code",
   "execution_count": 9,
   "metadata": {},
   "outputs": [],
   "source": [
    "gdf_building.to_file('../../data/processed/building/building_sample.geojson', driver='GeoJSON')"
   ]
  }
 ],
 "metadata": {
  "kernelspec": {
   "display_name": "teamgigo",
   "language": "python",
   "name": "python3"
  },
  "language_info": {
   "codemirror_mode": {
    "name": "ipython",
    "version": 3
   },
   "file_extension": ".py",
   "mimetype": "text/x-python",
   "name": "python",
   "nbconvert_exporter": "python",
   "pygments_lexer": "ipython3",
   "version": "3.12.2"
  }
 },
 "nbformat": 4,
 "nbformat_minor": 2
}
