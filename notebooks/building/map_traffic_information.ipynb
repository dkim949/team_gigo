{
 "cells": [
  {
   "cell_type": "markdown",
   "metadata": {},
   "source": [
    "## Calculate the nearest subway station"
   ]
  },
  {
   "cell_type": "code",
   "execution_count": 1,
   "metadata": {},
   "outputs": [],
   "source": [
    "import numpy as np\n",
    "import pandas as pd\n",
    "import geopandas as gpd\n",
    "\n",
    "from tqdm import tqdm\n",
    "tqdm.pandas(desc=\"Applying function\")\n",
    "\n",
    "from shapely.geometry import Point"
   ]
  },
  {
   "cell_type": "code",
   "execution_count": 2,
   "metadata": {},
   "outputs": [],
   "source": [
    "gdf_building = gpd.read_file('../../data/processed/building/building_manhattan_commercial_street.geojson')\n"
   ]
  },
  {
   "cell_type": "code",
   "execution_count": 3,
   "metadata": {},
   "outputs": [
    {
     "data": {
      "text/html": [
       "<div>\n",
       "<style scoped>\n",
       "    .dataframe tbody tr th:only-of-type {\n",
       "        vertical-align: middle;\n",
       "    }\n",
       "\n",
       "    .dataframe tbody tr th {\n",
       "        vertical-align: top;\n",
       "    }\n",
       "\n",
       "    .dataframe thead th {\n",
       "        text-align: right;\n",
       "    }\n",
       "</style>\n",
       "<table border=\"1\" class=\"dataframe\">\n",
       "  <thead>\n",
       "    <tr style=\"text-align: right;\">\n",
       "      <th></th>\n",
       "      <th>heightroof</th>\n",
       "      <th>mpluto_bbl</th>\n",
       "      <th>cnstrct_yr</th>\n",
       "      <th>globalid</th>\n",
       "      <th>bin</th>\n",
       "      <th>OfficeArea</th>\n",
       "      <th>RetailArea</th>\n",
       "      <th>ResArea</th>\n",
       "      <th>OBJECTID</th>\n",
       "      <th>StreetWidth_Min</th>\n",
       "      <th>StreetWidth_Max</th>\n",
       "      <th>POSTED_SPEED</th>\n",
       "      <th>betweeness</th>\n",
       "      <th>geometry</th>\n",
       "    </tr>\n",
       "  </thead>\n",
       "  <tbody>\n",
       "    <tr>\n",
       "      <th>0</th>\n",
       "      <td>59.722628</td>\n",
       "      <td>1021210037</td>\n",
       "      <td>1910</td>\n",
       "      <td>{A0E56BCC-A86B-4CEF-9A42-9B4ECD61743F}</td>\n",
       "      <td>1062896</td>\n",
       "      <td>0</td>\n",
       "      <td>2250</td>\n",
       "      <td>10344</td>\n",
       "      <td>100007</td>\n",
       "      <td>60.0</td>\n",
       "      <td>60.0</td>\n",
       "      <td>25</td>\n",
       "      <td>0.012116</td>\n",
       "      <td>MULTIPOLYGON (((1001211.761 244524.798, 100123...</td>\n",
       "    </tr>\n",
       "    <tr>\n",
       "      <th>1</th>\n",
       "      <td>155.49</td>\n",
       "      <td>1008870001</td>\n",
       "      <td>1935</td>\n",
       "      <td>{0B06F7A8-1F83-44F3-97DD-AC524A6374CA}</td>\n",
       "      <td>1018457</td>\n",
       "      <td>50018</td>\n",
       "      <td>4000</td>\n",
       "      <td>0</td>\n",
       "      <td>101045</td>\n",
       "      <td>32.0</td>\n",
       "      <td>32.0</td>\n",
       "      <td>25</td>\n",
       "      <td>0.027505</td>\n",
       "      <td>MULTIPOLYGON (((989135.970 210787.603, 989181....</td>\n",
       "    </tr>\n",
       "    <tr>\n",
       "      <th>2</th>\n",
       "      <td>167.21446831</td>\n",
       "      <td>1013490035</td>\n",
       "      <td>1931</td>\n",
       "      <td>{A091951D-C73E-4B77-9A61-716C666C5446}</td>\n",
       "      <td>1039988</td>\n",
       "      <td>2890</td>\n",
       "      <td>0</td>\n",
       "      <td>70110</td>\n",
       "      <td>99804</td>\n",
       "      <td>60.0</td>\n",
       "      <td>60.0</td>\n",
       "      <td>25</td>\n",
       "      <td>0.012333</td>\n",
       "      <td>MULTIPOLYGON (((994153.480 215659.003, 994165....</td>\n",
       "    </tr>\n",
       "    <tr>\n",
       "      <th>3</th>\n",
       "      <td>28.57</td>\n",
       "      <td>1010610006</td>\n",
       "      <td>1910</td>\n",
       "      <td>{2BE9F674-67E7-4A49-8535-F636A16D8DA5}</td>\n",
       "      <td>1026714</td>\n",
       "      <td>0</td>\n",
       "      <td>0</td>\n",
       "      <td>0</td>\n",
       "      <td>103068</td>\n",
       "      <td>32.0</td>\n",
       "      <td>32.0</td>\n",
       "      <td>25</td>\n",
       "      <td>0.022920</td>\n",
       "      <td>MULTIPOLYGON (((986858.328 218070.430, 986839....</td>\n",
       "    </tr>\n",
       "    <tr>\n",
       "      <th>4</th>\n",
       "      <td>73.13</td>\n",
       "      <td>1003060013</td>\n",
       "      <td>1900</td>\n",
       "      <td>{2403088E-77A6-4071-8B5E-D54AFBC720D9}</td>\n",
       "      <td>1003956</td>\n",
       "      <td>0</td>\n",
       "      <td>3800</td>\n",
       "      <td>0</td>\n",
       "      <td>92425</td>\n",
       "      <td>34.0</td>\n",
       "      <td>45.0</td>\n",
       "      <td>25</td>\n",
       "      <td>0.033656</td>\n",
       "      <td>MULTIPOLYGON (((986180.396 200723.234, 986187....</td>\n",
       "    </tr>\n",
       "    <tr>\n",
       "      <th>...</th>\n",
       "      <td>...</td>\n",
       "      <td>...</td>\n",
       "      <td>...</td>\n",
       "      <td>...</td>\n",
       "      <td>...</td>\n",
       "      <td>...</td>\n",
       "      <td>...</td>\n",
       "      <td>...</td>\n",
       "      <td>...</td>\n",
       "      <td>...</td>\n",
       "      <td>...</td>\n",
       "      <td>...</td>\n",
       "      <td>...</td>\n",
       "      <td>...</td>\n",
       "    </tr>\n",
       "    <tr>\n",
       "      <th>37404</th>\n",
       "      <td>26.00608505</td>\n",
       "      <td>1003060022</td>\n",
       "      <td>2012</td>\n",
       "      <td>{BCEF4A7B-9A3B-45DE-BEBD-64809EAA3861}</td>\n",
       "      <td>1077601</td>\n",
       "      <td>5000</td>\n",
       "      <td>5000</td>\n",
       "      <td>0</td>\n",
       "      <td>95865</td>\n",
       "      <td>40.0</td>\n",
       "      <td>40.0</td>\n",
       "      <td>25</td>\n",
       "      <td>0.020131</td>\n",
       "      <td>MULTIPOLYGON (((986313.302 200636.585, 986311....</td>\n",
       "    </tr>\n",
       "    <tr>\n",
       "      <th>37405</th>\n",
       "      <td>35.44835474</td>\n",
       "      <td>1016280057</td>\n",
       "      <td>1923</td>\n",
       "      <td>{B072371A-F903-41B1-B7AF-DA0BC4835B50}</td>\n",
       "      <td>1051816</td>\n",
       "      <td>0</td>\n",
       "      <td>0</td>\n",
       "      <td>0</td>\n",
       "      <td>99663</td>\n",
       "      <td>30.0</td>\n",
       "      <td>30.0</td>\n",
       "      <td>25</td>\n",
       "      <td>0.039044</td>\n",
       "      <td>MULTIPOLYGON (((998256.785 226794.479, 998271....</td>\n",
       "    </tr>\n",
       "    <tr>\n",
       "      <th>37406</th>\n",
       "      <td>338.0</td>\n",
       "      <td>1000920030</td>\n",
       "      <td>2023</td>\n",
       "      <td>{5CDE3269-D9A3-4732-BBB0-AD92B46BDDF2}</td>\n",
       "      <td>1091002</td>\n",
       "      <td>0</td>\n",
       "      <td>0</td>\n",
       "      <td>0</td>\n",
       "      <td>99112</td>\n",
       "      <td>20.0</td>\n",
       "      <td>22.0</td>\n",
       "      <td>25</td>\n",
       "      <td>0.010592</td>\n",
       "      <td>MULTIPOLYGON (((982522.527 198275.305, 982453....</td>\n",
       "    </tr>\n",
       "    <tr>\n",
       "      <th>37407</th>\n",
       "      <td>84.72</td>\n",
       "      <td>1000920032</td>\n",
       "      <td>1925</td>\n",
       "      <td>{5D66351B-DDFF-43FB-A05D-E5A3E861CE1B}</td>\n",
       "      <td>1001278</td>\n",
       "      <td>23039</td>\n",
       "      <td>2000</td>\n",
       "      <td>0</td>\n",
       "      <td>112560</td>\n",
       "      <td>22.0</td>\n",
       "      <td>24.0</td>\n",
       "      <td>25</td>\n",
       "      <td>0.006406</td>\n",
       "      <td>MULTIPOLYGON (((982550.394 198238.001, 982484....</td>\n",
       "    </tr>\n",
       "    <tr>\n",
       "      <th>37408</th>\n",
       "      <td>53.48</td>\n",
       "      <td>1017080003</td>\n",
       "      <td>1900</td>\n",
       "      <td>{1B8DDD75-71EA-44FA-A2DD-213D6A98D390}</td>\n",
       "      <td>1079371</td>\n",
       "      <td>0</td>\n",
       "      <td>0</td>\n",
       "      <td>1680</td>\n",
       "      <td>108290</td>\n",
       "      <td>70.0</td>\n",
       "      <td>70.0</td>\n",
       "      <td>25</td>\n",
       "      <td>0.033271</td>\n",
       "      <td>MULTIPOLYGON (((1002022.923 228852.265, 100200...</td>\n",
       "    </tr>\n",
       "  </tbody>\n",
       "</table>\n",
       "<p>37409 rows × 14 columns</p>\n",
       "</div>"
      ],
      "text/plain": [
       "         heightroof  mpluto_bbl cnstrct_yr  \\\n",
       "0         59.722628  1021210037       1910   \n",
       "1            155.49  1008870001       1935   \n",
       "2      167.21446831  1013490035       1931   \n",
       "3             28.57  1010610006       1910   \n",
       "4             73.13  1003060013       1900   \n",
       "...             ...         ...        ...   \n",
       "37404   26.00608505  1003060022       2012   \n",
       "37405   35.44835474  1016280057       1923   \n",
       "37406         338.0  1000920030       2023   \n",
       "37407         84.72  1000920032       1925   \n",
       "37408         53.48  1017080003       1900   \n",
       "\n",
       "                                     globalid      bin  OfficeArea  \\\n",
       "0      {A0E56BCC-A86B-4CEF-9A42-9B4ECD61743F}  1062896           0   \n",
       "1      {0B06F7A8-1F83-44F3-97DD-AC524A6374CA}  1018457       50018   \n",
       "2      {A091951D-C73E-4B77-9A61-716C666C5446}  1039988        2890   \n",
       "3      {2BE9F674-67E7-4A49-8535-F636A16D8DA5}  1026714           0   \n",
       "4      {2403088E-77A6-4071-8B5E-D54AFBC720D9}  1003956           0   \n",
       "...                                       ...      ...         ...   \n",
       "37404  {BCEF4A7B-9A3B-45DE-BEBD-64809EAA3861}  1077601        5000   \n",
       "37405  {B072371A-F903-41B1-B7AF-DA0BC4835B50}  1051816           0   \n",
       "37406  {5CDE3269-D9A3-4732-BBB0-AD92B46BDDF2}  1091002           0   \n",
       "37407  {5D66351B-DDFF-43FB-A05D-E5A3E861CE1B}  1001278       23039   \n",
       "37408  {1B8DDD75-71EA-44FA-A2DD-213D6A98D390}  1079371           0   \n",
       "\n",
       "       RetailArea  ResArea  OBJECTID  StreetWidth_Min  StreetWidth_Max  \\\n",
       "0            2250    10344    100007             60.0             60.0   \n",
       "1            4000        0    101045             32.0             32.0   \n",
       "2               0    70110     99804             60.0             60.0   \n",
       "3               0        0    103068             32.0             32.0   \n",
       "4            3800        0     92425             34.0             45.0   \n",
       "...           ...      ...       ...              ...              ...   \n",
       "37404        5000        0     95865             40.0             40.0   \n",
       "37405           0        0     99663             30.0             30.0   \n",
       "37406           0        0     99112             20.0             22.0   \n",
       "37407        2000        0    112560             22.0             24.0   \n",
       "37408           0     1680    108290             70.0             70.0   \n",
       "\n",
       "      POSTED_SPEED  betweeness  \\\n",
       "0               25    0.012116   \n",
       "1               25    0.027505   \n",
       "2               25    0.012333   \n",
       "3               25    0.022920   \n",
       "4               25    0.033656   \n",
       "...            ...         ...   \n",
       "37404           25    0.020131   \n",
       "37405           25    0.039044   \n",
       "37406           25    0.010592   \n",
       "37407           25    0.006406   \n",
       "37408           25    0.033271   \n",
       "\n",
       "                                                geometry  \n",
       "0      MULTIPOLYGON (((1001211.761 244524.798, 100123...  \n",
       "1      MULTIPOLYGON (((989135.970 210787.603, 989181....  \n",
       "2      MULTIPOLYGON (((994153.480 215659.003, 994165....  \n",
       "3      MULTIPOLYGON (((986858.328 218070.430, 986839....  \n",
       "4      MULTIPOLYGON (((986180.396 200723.234, 986187....  \n",
       "...                                                  ...  \n",
       "37404  MULTIPOLYGON (((986313.302 200636.585, 986311....  \n",
       "37405  MULTIPOLYGON (((998256.785 226794.479, 998271....  \n",
       "37406  MULTIPOLYGON (((982522.527 198275.305, 982453....  \n",
       "37407  MULTIPOLYGON (((982550.394 198238.001, 982484....  \n",
       "37408  MULTIPOLYGON (((1002022.923 228852.265, 100200...  \n",
       "\n",
       "[37409 rows x 14 columns]"
      ]
     },
     "execution_count": 3,
     "metadata": {},
     "output_type": "execute_result"
    }
   ],
   "source": [
    "gdf_building"
   ]
  },
  {
   "cell_type": "code",
   "execution_count": 4,
   "metadata": {},
   "outputs": [],
   "source": [
    "gdf_subway_ridership_2023 = gpd.read_file('../../data/processed/traffic/2023_ridership.geojson').to_crs(2263)\n",
    "gdf_subway_ridership_2022 = gpd.read_file('../../data/processed/traffic/2022_ridership.geojson').to_crs(2263)\n"
   ]
  },
  {
   "cell_type": "code",
   "execution_count": 5,
   "metadata": {},
   "outputs": [],
   "source": [
    "# spatial join between building and station\n",
    "gdf_building_ridership_2023 = gdf_building.sjoin_nearest(gdf_subway_ridership_2023, distance_col='distance_from_station(ft)').drop('index_right', axis=1)\n",
    "\n",
    "# because duplicated rows created during the spatial join process, I dropped\n",
    "gdf_building_ridership_2023 = gdf_building_ridership_2023.drop_duplicates(subset=['bin','mpluto_bbl','globalid'])"
   ]
  },
  {
   "cell_type": "code",
   "execution_count": 6,
   "metadata": {},
   "outputs": [],
   "source": [
    "# spatial join between building and station\n",
    "gdf_building_ridership_2022 = gdf_building.sjoin_nearest(gdf_subway_ridership_2022, distance_col='distance_from_station(ft)').drop('index_right', axis=1)\n",
    "\n",
    "# because duplicated rows created during the spatial join process, I dropped\n",
    "gdf_building_ridership_2022 = gdf_building_ridership_2022.drop_duplicates(subset=['bin','mpluto_bbl','globalid'])"
   ]
  },
  {
   "cell_type": "code",
   "execution_count": 7,
   "metadata": {},
   "outputs": [],
   "source": [
    "gdf_building_ridership_2023 = gdf_building_ridership_2023.loc[:,['bin','ridership_evening','ridership_late_night','ridership_midday','ridership_morning','ridership_night','distance_from_station(ft)']]\n",
    "gdf_building_ridership_2022 = gdf_building_ridership_2022.loc[:,['bin','ridership_evening','ridership_late_night','ridership_midday','ridership_morning','ridership_night','distance_from_station(ft)']]"
   ]
  },
  {
   "cell_type": "code",
   "execution_count": 8,
   "metadata": {},
   "outputs": [],
   "source": [
    "gdf_building_ridership_2023.loc[:,'year'] = 2023\n",
    "gdf_building_ridership_2022.loc[:,'year'] = 2022"
   ]
  },
  {
   "cell_type": "code",
   "execution_count": 9,
   "metadata": {},
   "outputs": [],
   "source": [
    "gdf_building_ridership = pd.concat([gdf_building_ridership_2023, gdf_building_ridership_2022], ignore_index=True)"
   ]
  },
  {
   "cell_type": "code",
   "execution_count": 11,
   "metadata": {},
   "outputs": [],
   "source": [
    "gdf_building_ridership.to_csv('../../data/processed/traffic/ridership_by_bin.csv', index=False)"
   ]
  },
  {
   "cell_type": "markdown",
   "metadata": {},
   "source": [
    "## Mapping AADT 2019 ~ 2021\n",
    "\n",
    "Estimated AADT values for each building were calculated as the inverse distance weighted average "
   ]
  },
  {
   "cell_type": "code",
   "execution_count": 13,
   "metadata": {},
   "outputs": [],
   "source": [
    "gdf_aadt_2019 = gpd.read_file('../../data/raw/aadt/aadt_2019.geojson').to_crs(2263)\n",
    "gdf_aadt_2020 = gpd.read_file('../../data/raw/aadt/aadt_2020.geojson').to_crs(2263)\n",
    "gdf_aadt_2021 = gpd.read_file('../../data/raw/aadt/aadt_2021.geojson').to_crs(2263)\n",
    "\n",
    "\n",
    "gdf_aadt_2019 =  gdf_aadt_2019.loc[np.logical_not(gdf_aadt_2019.loc[:,'AADT'].isnull())]\n",
    "gdf_aadt_2020 =  gdf_aadt_2020.loc[np.logical_not(gdf_aadt_2020.loc[:,'MAT_ALH_2020_csv_AADT'].isnull())].rename(columns={'MAT_ALH_2020_csv_AADT':'AADT'})\n",
    "gdf_aadt_2021 =  gdf_aadt_2021.loc[np.logical_not(gdf_aadt_2021.loc[:,'MAT_ALH_2021_csv_AADT'].isnull())].rename(columns={'MAT_ALH_2021_csv_AADT':'AADT'})"
   ]
  },
  {
   "cell_type": "code",
   "execution_count": 14,
   "metadata": {},
   "outputs": [],
   "source": [
    "def calculate_idw_aadt_average(building, gdf_aadt):\n",
    "    \n",
    "    distances = gdf_aadt.distance(building)\n",
    "    inverse_distance_weighted_traffic = np.average(gdf_aadt['AADT'], weights = 1/(distances + 1))\n",
    "\n",
    "    return inverse_distance_weighted_traffic"
   ]
  },
  {
   "cell_type": "code",
   "execution_count": 15,
   "metadata": {},
   "outputs": [
    {
     "name": "stderr",
     "output_type": "stream",
     "text": [
      "Applying function: 100%|██████████| 37409/37409 [06:50<00:00, 91.17it/s] \n"
     ]
    }
   ],
   "source": [
    "gdf_building.loc[:,'idw_aadt_2019'] = gdf_building.loc[:,'geometry'].progress_apply(lambda x: calculate_idw_aadt_average(x, gdf_aadt_2019))"
   ]
  },
  {
   "cell_type": "code",
   "execution_count": 16,
   "metadata": {},
   "outputs": [
    {
     "name": "stderr",
     "output_type": "stream",
     "text": [
      "Applying function: 100%|██████████| 37409/37409 [02:53<00:00, 215.60it/s]\n"
     ]
    }
   ],
   "source": [
    "gdf_building.loc[:,'idw_aadt_2020'] = gdf_building.loc[:,'geometry'].progress_apply(lambda x: calculate_idw_aadt_average(x, gdf_aadt_2020))"
   ]
  },
  {
   "cell_type": "code",
   "execution_count": 17,
   "metadata": {},
   "outputs": [
    {
     "name": "stderr",
     "output_type": "stream",
     "text": [
      "Applying function: 100%|██████████| 37409/37409 [03:51<00:00, 161.33it/s]\n"
     ]
    }
   ],
   "source": [
    "gdf_building.loc[:,'idw_aadt_2021'] = gdf_building.loc[:,'geometry'].progress_apply(lambda x: calculate_idw_aadt_average(x, gdf_aadt_2021))"
   ]
  },
  {
   "cell_type": "code",
   "execution_count": 18,
   "metadata": {},
   "outputs": [
    {
     "data": {
      "text/html": [
       "<div>\n",
       "<style scoped>\n",
       "    .dataframe tbody tr th:only-of-type {\n",
       "        vertical-align: middle;\n",
       "    }\n",
       "\n",
       "    .dataframe tbody tr th {\n",
       "        vertical-align: top;\n",
       "    }\n",
       "\n",
       "    .dataframe thead th {\n",
       "        text-align: right;\n",
       "    }\n",
       "</style>\n",
       "<table border=\"1\" class=\"dataframe\">\n",
       "  <thead>\n",
       "    <tr style=\"text-align: right;\">\n",
       "      <th></th>\n",
       "      <th>heightroof</th>\n",
       "      <th>mpluto_bbl</th>\n",
       "      <th>cnstrct_yr</th>\n",
       "      <th>globalid</th>\n",
       "      <th>bin</th>\n",
       "      <th>OfficeArea</th>\n",
       "      <th>RetailArea</th>\n",
       "      <th>ResArea</th>\n",
       "      <th>OBJECTID</th>\n",
       "      <th>StreetWidth_Min</th>\n",
       "      <th>StreetWidth_Max</th>\n",
       "      <th>POSTED_SPEED</th>\n",
       "      <th>betweeness</th>\n",
       "      <th>geometry</th>\n",
       "      <th>idw_aadt_2019</th>\n",
       "      <th>idw_aadt_2020</th>\n",
       "      <th>idw_aadt_2021</th>\n",
       "    </tr>\n",
       "  </thead>\n",
       "  <tbody>\n",
       "    <tr>\n",
       "      <th>0</th>\n",
       "      <td>59.722628</td>\n",
       "      <td>1021210037</td>\n",
       "      <td>1910</td>\n",
       "      <td>{A0E56BCC-A86B-4CEF-9A42-9B4ECD61743F}</td>\n",
       "      <td>1062896</td>\n",
       "      <td>0</td>\n",
       "      <td>2250</td>\n",
       "      <td>10344</td>\n",
       "      <td>100007</td>\n",
       "      <td>60.0</td>\n",
       "      <td>60.0</td>\n",
       "      <td>25</td>\n",
       "      <td>0.012116</td>\n",
       "      <td>MULTIPOLYGON (((1001211.761 244524.798, 100123...</td>\n",
       "      <td>13651.722938</td>\n",
       "      <td>15362.929888</td>\n",
       "      <td>17083.134233</td>\n",
       "    </tr>\n",
       "    <tr>\n",
       "      <th>1</th>\n",
       "      <td>155.49</td>\n",
       "      <td>1008870001</td>\n",
       "      <td>1935</td>\n",
       "      <td>{0B06F7A8-1F83-44F3-97DD-AC524A6374CA}</td>\n",
       "      <td>1018457</td>\n",
       "      <td>50018</td>\n",
       "      <td>4000</td>\n",
       "      <td>0</td>\n",
       "      <td>101045</td>\n",
       "      <td>32.0</td>\n",
       "      <td>32.0</td>\n",
       "      <td>25</td>\n",
       "      <td>0.027505</td>\n",
       "      <td>MULTIPOLYGON (((989135.970 210787.603, 989181....</td>\n",
       "      <td>10065.445841</td>\n",
       "      <td>10282.943569</td>\n",
       "      <td>11495.144080</td>\n",
       "    </tr>\n",
       "    <tr>\n",
       "      <th>2</th>\n",
       "      <td>167.21446831</td>\n",
       "      <td>1013490035</td>\n",
       "      <td>1931</td>\n",
       "      <td>{A091951D-C73E-4B77-9A61-716C666C5446}</td>\n",
       "      <td>1039988</td>\n",
       "      <td>2890</td>\n",
       "      <td>0</td>\n",
       "      <td>70110</td>\n",
       "      <td>99804</td>\n",
       "      <td>60.0</td>\n",
       "      <td>60.0</td>\n",
       "      <td>25</td>\n",
       "      <td>0.012333</td>\n",
       "      <td>MULTIPOLYGON (((994153.480 215659.003, 994165....</td>\n",
       "      <td>14437.629737</td>\n",
       "      <td>14445.844421</td>\n",
       "      <td>16299.638335</td>\n",
       "    </tr>\n",
       "    <tr>\n",
       "      <th>3</th>\n",
       "      <td>28.57</td>\n",
       "      <td>1010610006</td>\n",
       "      <td>1910</td>\n",
       "      <td>{2BE9F674-67E7-4A49-8535-F636A16D8DA5}</td>\n",
       "      <td>1026714</td>\n",
       "      <td>0</td>\n",
       "      <td>0</td>\n",
       "      <td>0</td>\n",
       "      <td>103068</td>\n",
       "      <td>32.0</td>\n",
       "      <td>32.0</td>\n",
       "      <td>25</td>\n",
       "      <td>0.022920</td>\n",
       "      <td>MULTIPOLYGON (((986858.328 218070.430, 986839....</td>\n",
       "      <td>10455.417903</td>\n",
       "      <td>10087.378012</td>\n",
       "      <td>11238.595524</td>\n",
       "    </tr>\n",
       "    <tr>\n",
       "      <th>4</th>\n",
       "      <td>73.13</td>\n",
       "      <td>1003060013</td>\n",
       "      <td>1900</td>\n",
       "      <td>{2403088E-77A6-4071-8B5E-D54AFBC720D9}</td>\n",
       "      <td>1003956</td>\n",
       "      <td>0</td>\n",
       "      <td>3800</td>\n",
       "      <td>0</td>\n",
       "      <td>92425</td>\n",
       "      <td>34.0</td>\n",
       "      <td>45.0</td>\n",
       "      <td>25</td>\n",
       "      <td>0.033656</td>\n",
       "      <td>MULTIPOLYGON (((986180.396 200723.234, 986187....</td>\n",
       "      <td>7632.299988</td>\n",
       "      <td>7433.877764</td>\n",
       "      <td>8351.143163</td>\n",
       "    </tr>\n",
       "  </tbody>\n",
       "</table>\n",
       "</div>"
      ],
      "text/plain": [
       "     heightroof  mpluto_bbl cnstrct_yr  \\\n",
       "0     59.722628  1021210037       1910   \n",
       "1        155.49  1008870001       1935   \n",
       "2  167.21446831  1013490035       1931   \n",
       "3         28.57  1010610006       1910   \n",
       "4         73.13  1003060013       1900   \n",
       "\n",
       "                                 globalid      bin  OfficeArea  RetailArea  \\\n",
       "0  {A0E56BCC-A86B-4CEF-9A42-9B4ECD61743F}  1062896           0        2250   \n",
       "1  {0B06F7A8-1F83-44F3-97DD-AC524A6374CA}  1018457       50018        4000   \n",
       "2  {A091951D-C73E-4B77-9A61-716C666C5446}  1039988        2890           0   \n",
       "3  {2BE9F674-67E7-4A49-8535-F636A16D8DA5}  1026714           0           0   \n",
       "4  {2403088E-77A6-4071-8B5E-D54AFBC720D9}  1003956           0        3800   \n",
       "\n",
       "   ResArea  OBJECTID  StreetWidth_Min  StreetWidth_Max POSTED_SPEED  \\\n",
       "0    10344    100007             60.0             60.0           25   \n",
       "1        0    101045             32.0             32.0           25   \n",
       "2    70110     99804             60.0             60.0           25   \n",
       "3        0    103068             32.0             32.0           25   \n",
       "4        0     92425             34.0             45.0           25   \n",
       "\n",
       "   betweeness                                           geometry  \\\n",
       "0    0.012116  MULTIPOLYGON (((1001211.761 244524.798, 100123...   \n",
       "1    0.027505  MULTIPOLYGON (((989135.970 210787.603, 989181....   \n",
       "2    0.012333  MULTIPOLYGON (((994153.480 215659.003, 994165....   \n",
       "3    0.022920  MULTIPOLYGON (((986858.328 218070.430, 986839....   \n",
       "4    0.033656  MULTIPOLYGON (((986180.396 200723.234, 986187....   \n",
       "\n",
       "   idw_aadt_2019  idw_aadt_2020  idw_aadt_2021  \n",
       "0   13651.722938   15362.929888   17083.134233  \n",
       "1   10065.445841   10282.943569   11495.144080  \n",
       "2   14437.629737   14445.844421   16299.638335  \n",
       "3   10455.417903   10087.378012   11238.595524  \n",
       "4    7632.299988    7433.877764    8351.143163  "
      ]
     },
     "execution_count": 18,
     "metadata": {},
     "output_type": "execute_result"
    }
   ],
   "source": [
    "gdf_building.head()"
   ]
  },
  {
   "cell_type": "code",
   "execution_count": 20,
   "metadata": {},
   "outputs": [],
   "source": [
    "gdf_building_renamed = gdf_building.rename(columns={'heightroof':'height',\n",
    "                                            'OfficeArea':'office_area',\n",
    "                                            'RetailArea':'retail_area',\n",
    "                                            'ResArea':'residential_area',\n",
    "                                            'StreetWidth_Min':'street_width_min',\n",
    "                                            'StreetWidth_Max':'street_width_max',\n",
    "                                            'POSTED_SPEED':'posted_speed'})"
   ]
  },
  {
   "cell_type": "markdown",
   "metadata": {},
   "source": [
    "## Mapping ATVC 2018 ~ 2020"
   ]
  },
  {
   "cell_type": "code",
   "execution_count": 33,
   "metadata": {},
   "outputs": [],
   "source": [
    "gdf_atvc = gpd.read_file('../../data/raw/traffic_count/vehicle count.geojson').to_crs(2263)\n",
    "gdf_atvc = gdf_atvc.loc[gdf_atvc.loc[:,'Yr']<2022]"
   ]
  },
  {
   "cell_type": "code",
   "execution_count": 34,
   "metadata": {},
   "outputs": [],
   "source": [
    "def calculate_idw_atvc_average(building, gdf_atvc, year):\n",
    "    gdf_tmp = gdf_atvc.loc[gdf_atvc.loc[:,'Yr']==year]\n",
    "    distances = gdf_tmp.distance(building)\n",
    "    inverse_distance_weighted_traffic = np.average(gdf_tmp['median'], weights = 1/(distances + 1))\n",
    "\n",
    "    return inverse_distance_weighted_traffic"
   ]
  },
  {
   "cell_type": "code",
   "execution_count": 35,
   "metadata": {},
   "outputs": [
    {
     "name": "stderr",
     "output_type": "stream",
     "text": [
      "Applying function: 100%|██████████| 37409/37409 [00:44<00:00, 836.36it/s]\n"
     ]
    }
   ],
   "source": [
    "gdf_building_renamed.loc[:,'idw_atvc_2018'] = gdf_building_renamed.loc[:,'geometry'].progress_apply(lambda x: calculate_idw_atvc_average(x, gdf_atvc, 2018))"
   ]
  },
  {
   "cell_type": "code",
   "execution_count": 36,
   "metadata": {},
   "outputs": [
    {
     "name": "stderr",
     "output_type": "stream",
     "text": [
      "Applying function: 100%|██████████| 37409/37409 [00:50<00:00, 747.24it/s]\n"
     ]
    }
   ],
   "source": [
    "gdf_building_renamed.loc[:,'idw_atvc_2019'] = gdf_building_renamed.loc[:,'geometry'].progress_apply(lambda x: calculate_idw_atvc_average(x, gdf_atvc, 2019))"
   ]
  },
  {
   "cell_type": "code",
   "execution_count": 37,
   "metadata": {},
   "outputs": [
    {
     "name": "stderr",
     "output_type": "stream",
     "text": [
      "Applying function: 100%|██████████| 37409/37409 [00:32<00:00, 1168.34it/s]\n"
     ]
    }
   ],
   "source": [
    "gdf_building_renamed.loc[:,'idw_atvc_2020'] = gdf_building_renamed.loc[:,'geometry'].progress_apply(lambda x: calculate_idw_atvc_average(x, gdf_atvc, 2020))"
   ]
  },
  {
   "cell_type": "code",
   "execution_count": 22,
   "metadata": {},
   "outputs": [],
   "source": [
    "gdf_building_renamed.drop('geometry', axis=1).to_csv('../../data/processed/building/building_240327_0626.csv', index=False)"
   ]
  },
  {
   "cell_type": "code",
   "execution_count": 20,
   "metadata": {},
   "outputs": [],
   "source": [
    "gdf_building_renamed.to_file('../../data/processed/building/building_manhattan_commercial_vt.geojson', driver='GeoJSON')"
   ]
  }
 ],
 "metadata": {
  "kernelspec": {
   "display_name": "teamgigo",
   "language": "python",
   "name": "python3"
  },
  "language_info": {
   "codemirror_mode": {
    "name": "ipython",
    "version": 3
   },
   "file_extension": ".py",
   "mimetype": "text/x-python",
   "name": "python",
   "nbconvert_exporter": "python",
   "pygments_lexer": "ipython3",
   "version": "3.11.0"
  }
 },
 "nbformat": 4,
 "nbformat_minor": 2
}
