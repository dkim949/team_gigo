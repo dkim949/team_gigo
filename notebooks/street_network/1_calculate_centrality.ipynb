{
 "cells": [
  {
   "cell_type": "code",
   "execution_count": 5,
   "metadata": {},
   "outputs": [],
   "source": [
    "# data processing\n",
    "import numpy as np\n",
    "import pandas as pd\n",
    "\n",
    "# GIS calculation\n",
    "import geopandas as gpd\n",
    "\n",
    "# network model\n",
    "import networkx as nx"
   ]
  },
  {
   "cell_type": "code",
   "execution_count": 6,
   "metadata": {},
   "outputs": [],
   "source": [
    "# import lion edges (streets). I extracted a subset of the raw LION dataset within the boundary of Manhattan.\n",
    "# currently we sampled entire dataset due to submit\n",
    "gdf_lion_edges = gpd.read_file('../../data/raw/lion/edges_manhattan_sample.geojson')"
   ]
  },
  {
   "cell_type": "code",
   "execution_count": 7,
   "metadata": {},
   "outputs": [],
   "source": [
    "# drop edges between same nodes\n",
    "gdf_lion_edges = gdf_lion_edges.loc[gdf_lion_edges.loc[:,'NodeIDFrom'] != gdf_lion_edges.loc[:,'NodeIDTo']]\n",
    "\n",
    "# drop dupliated edges (edge between same node pairs)\n",
    "gdf_lion_edges.loc[:,'route'] = gdf_lion_edges.loc[:,['NodeIDFrom', 'NodeIDTo']].apply(lambda x: '~'.join(sorted(x)), axis=1)\n",
    "gdf_lion_edges = gdf_lion_edges.drop_duplicates(subset='route')"
   ]
  },
  {
   "cell_type": "code",
   "execution_count": 8,
   "metadata": {},
   "outputs": [
    {
     "data": {
      "text/plain": [
       "(4787, 131)"
      ]
     },
     "execution_count": 8,
     "metadata": {},
     "output_type": "execute_result"
    }
   ],
   "source": [
    "gdf_lion_edges.shape"
   ]
  },
  {
   "cell_type": "code",
   "execution_count": 9,
   "metadata": {},
   "outputs": [],
   "source": [
    "# import the neighborhood boundary (from https://data.cityofnewyork.us/City-Government/Neighborhoods-Boundries/j2bc-fus8)\n",
    "gdf_neighborhood = gpd.read_file('../../data/raw/boundary/Neighborhoods Boundries.geojson')\n",
    "gdf_neighborhood = gdf_neighborhood.loc[gdf_neighborhood.loc[:,'boroname'] == 'Manhattan']"
   ]
  },
  {
   "cell_type": "code",
   "execution_count": 10,
   "metadata": {},
   "outputs": [],
   "source": [
    "def calculate_neighborhood_centrality(neighborhood):\n",
    "    # crop the lion edges by a certain neighborhood boundary\n",
    "    gdf_neighborhood_tmp = gdf_neighborhood.loc[gdf_neighborhood.loc[:,'ntaname'] == neighborhood]\n",
    "    gdf_neighborhood_tmp = gdf_neighborhood_tmp.to_crs(2263)\n",
    "    gdf_lion_edges_tmp = gpd.sjoin(gdf_lion_edges,gdf_neighborhood_tmp.loc[:,['ntaname','geometry']],\n",
    "                                   how='inner',\n",
    "                                   predicate='intersects').drop(['index_right','ntaname'], axis=1)\n",
    "    \n",
    "    # create a graph, with length of each edge\n",
    "    # because I assumed that the street network is undirected single graph. \n",
    "    # so some edges will be removed if there are multiple streets between two nodes.\n",
    "    G_lion_tmp = nx.from_pandas_edgelist(gdf_lion_edges_tmp, 'NodeIDFrom', 'NodeIDTo', edge_attr=['OBJECTID','SHAPE_Length'], create_using=nx.Graph())\n",
    "\n",
    "    # https://networkx.org/documentation/stable/reference/algorithms/generated/networkx.algorithms.centrality.edge_betweenness_centrality.html#networkx.algorithms.centrality.edge_betweenness_centrality\n",
    "    betweenness_centrality = nx.edge_betweenness_centrality(G_lion_tmp, weight='SHAPE_Length')\n",
    "\n",
    "    # add betweeness centrality as a property of the edges\n",
    "    for k, v in betweenness_centrality.items():\n",
    "        node_id_from = k[0]\n",
    "        node_id_to = k[1]\n",
    "        # add attribute 'edge_id'\n",
    "        G_lion_tmp[node_id_from][node_id_to]['betweeness'] = v\n",
    "\n",
    "    # convert the edge info as a dataframe. \n",
    "    df_edge_info = pd.DataFrame([value for _,_,value in list(G_lion_tmp.edges(data=True))])\n",
    "\n",
    "    df_edge_info = df_edge_info.loc[:,['OBJECTID','betweeness']]\n",
    "\n",
    "    return df_edge_info\n",
    "    "
   ]
  },
  {
   "cell_type": "code",
   "execution_count": 11,
   "metadata": {},
   "outputs": [],
   "source": [
    "list_neighborhood_betweeness = []\n",
    "\n",
    "for i, row in gdf_neighborhood.iterrows():\n",
    "    neighborhood = row['ntaname']\n",
    "    df_betweeness_tmp = calculate_neighborhood_centrality(neighborhood)\n",
    "    list_neighborhood_betweeness.append(df_betweeness_tmp)"
   ]
  },
  {
   "cell_type": "code",
   "execution_count": 12,
   "metadata": {},
   "outputs": [],
   "source": [
    "df_centrality = pd.concat(list_neighborhood_betweeness, ignore_index=True)"
   ]
  },
  {
   "cell_type": "code",
   "execution_count": 13,
   "metadata": {},
   "outputs": [],
   "source": [
    "gdf_lion_edges = gdf_lion_edges.merge(df_centrality, on='OBJECTID', how='inner')"
   ]
  },
  {
   "cell_type": "code",
   "execution_count": 14,
   "metadata": {},
   "outputs": [],
   "source": [
    "#gdf_lion_edges.drop('route', axis=1).to_file('../../data/processed/street_network.geojson', driver='GeoJSON')"
   ]
  }
 ],
 "metadata": {
  "kernelspec": {
   "display_name": "geo",
   "language": "python",
   "name": "python3"
  },
  "language_info": {
   "codemirror_mode": {
    "name": "ipython",
    "version": 3
   },
   "file_extension": ".py",
   "mimetype": "text/x-python",
   "name": "python",
   "nbconvert_exporter": "python",
   "pygments_lexer": "ipython3",
   "version": "3.12.2"
  }
 },
 "nbformat": 4,
 "nbformat_minor": 2
}
