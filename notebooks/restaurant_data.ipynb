{
 "cells": [
  {
   "cell_type": "code",
   "execution_count": 77,
   "metadata": {},
   "outputs": [],
   "source": [
    "import pandas as pd\n",
    "from sodapy import Socrata\n",
    "import geopy\n",
    "import time\n",
    "from time import sleep"
   ]
  },
  {
   "cell_type": "code",
   "execution_count": 78,
   "metadata": {},
   "outputs": [],
   "source": [
    "#API Would not be the best option due to the import limitation.\n",
    "#client = Socrata(\"data.cityofnewyork.us\", None)\n",
    "#results = client.get(\"43nn-pn8j\", limit=2000)"
   ]
  },
  {
   "cell_type": "code",
   "execution_count": 79,
   "metadata": {},
   "outputs": [],
   "source": [
    "#Reading csv file\n",
    "restaurant_df = pd.read_csv('./restaurant.csv')"
   ]
  },
  {
   "cell_type": "code",
   "execution_count": 80,
   "metadata": {},
   "outputs": [
    {
     "name": "stdout",
     "output_type": "stream",
     "text": [
      "<class 'pandas.core.frame.DataFrame'>\n",
      "RangeIndex: 218563 entries, 0 to 218562\n",
      "Data columns (total 27 columns):\n",
      " #   Column                 Non-Null Count   Dtype  \n",
      "---  ------                 --------------   -----  \n",
      " 0   CAMIS                  218563 non-null  int64  \n",
      " 1   DBA                    218009 non-null  object \n",
      " 2   BORO                   218563 non-null  object \n",
      " 3   BUILDING               218122 non-null  object \n",
      " 4   STREET                 218554 non-null  object \n",
      " 5   ZIPCODE                215818 non-null  float64\n",
      " 6   PHONE                  218561 non-null  object \n",
      " 7   CUISINE DESCRIPTION    216230 non-null  object \n",
      " 8   INSPECTION DATE        218563 non-null  object \n",
      " 9   ACTION                 216230 non-null  object \n",
      " 10  VIOLATION CODE         215095 non-null  object \n",
      " 11  VIOLATION DESCRIPTION  215095 non-null  object \n",
      " 12  CRITICAL FLAG          218563 non-null  object \n",
      " 13  SCORE                  208075 non-null  float64\n",
      " 14  GRADE                  106854 non-null  object \n",
      " 15  GRADE DATE             97854 non-null   object \n",
      " 16  RECORD DATE            218563 non-null  object \n",
      " 17  INSPECTION TYPE        216230 non-null  object \n",
      " 18  Latitude               218279 non-null  float64\n",
      " 19  Longitude              218279 non-null  float64\n",
      " 20  Community Board        215156 non-null  float64\n",
      " 21  Council District       215161 non-null  float64\n",
      " 22  Census Tract           215161 non-null  float64\n",
      " 23  BIN                    214118 non-null  float64\n",
      " 24  BBL                    217892 non-null  float64\n",
      " 25  NTA                    215156 non-null  object \n",
      " 26  Location Point1        0 non-null       float64\n",
      "dtypes: float64(10), int64(1), object(16)\n",
      "memory usage: 45.0+ MB\n"
     ]
    }
   ],
   "source": [
    "#Information of columns and dtype.\n",
    "restaurant_df.info()"
   ]
  },
  {
   "cell_type": "code",
   "execution_count": 81,
   "metadata": {},
   "outputs": [],
   "source": [
    "#Remove rows that doesn't have names.\n",
    "restaurant_df = restaurant_df[restaurant_df['DBA'].notna()]"
   ]
  },
  {
   "cell_type": "code",
   "execution_count": 82,
   "metadata": {},
   "outputs": [
    {
     "name": "stdout",
     "output_type": "stream",
     "text": [
      "218009\n"
     ]
    }
   ],
   "source": [
    "#Checking above has completed\n",
    "print(len(restaurant_df.index))"
   ]
  },
  {
   "cell_type": "code",
   "execution_count": 90,
   "metadata": {},
   "outputs": [],
   "source": [
    "#Filtering only \"Manhattan\" boro\n",
    "restaurant_df = restaurant_df.loc[(restaurant_df['BORO'] == 'Manhattan')]\n",
    "restaurant_df = restaurant_df.reset_index(drop=True)"
   ]
  },
  {
   "cell_type": "code",
   "execution_count": 91,
   "metadata": {},
   "outputs": [
    {
     "name": "stdout",
     "output_type": "stream",
     "text": [
      "80708\n"
     ]
    },
    {
     "data": {
      "text/html": [
       "<div>\n",
       "<style scoped>\n",
       "    .dataframe tbody tr th:only-of-type {\n",
       "        vertical-align: middle;\n",
       "    }\n",
       "\n",
       "    .dataframe tbody tr th {\n",
       "        vertical-align: top;\n",
       "    }\n",
       "\n",
       "    .dataframe thead th {\n",
       "        text-align: right;\n",
       "    }\n",
       "</style>\n",
       "<table border=\"1\" class=\"dataframe\">\n",
       "  <thead>\n",
       "    <tr style=\"text-align: right;\">\n",
       "      <th></th>\n",
       "      <th>DBA</th>\n",
       "      <th>BORO</th>\n",
       "      <th>BUILDING</th>\n",
       "      <th>STREET</th>\n",
       "      <th>ZIPCODE</th>\n",
       "      <th>Latitude</th>\n",
       "      <th>Longitude</th>\n",
       "    </tr>\n",
       "  </thead>\n",
       "  <tbody>\n",
       "    <tr>\n",
       "      <th>0</th>\n",
       "      <td>GRAND &amp; ESSEX</td>\n",
       "      <td>Manhattan</td>\n",
       "      <td>359</td>\n",
       "      <td>GRAND STREET</td>\n",
       "      <td>10002.0</td>\n",
       "      <td>40.716639</td>\n",
       "      <td>-73.988998</td>\n",
       "    </tr>\n",
       "    <tr>\n",
       "      <th>1</th>\n",
       "      <td>THE WOLFE</td>\n",
       "      <td>Manhattan</td>\n",
       "      <td>425</td>\n",
       "      <td>AMSTERDAM AVENUE</td>\n",
       "      <td>10024.0</td>\n",
       "      <td>40.784048</td>\n",
       "      <td>-73.977651</td>\n",
       "    </tr>\n",
       "    <tr>\n",
       "      <th>2</th>\n",
       "      <td>ROMA PIZZA</td>\n",
       "      <td>Manhattan</td>\n",
       "      <td>465</td>\n",
       "      <td>6 AVENUE</td>\n",
       "      <td>10011.0</td>\n",
       "      <td>40.735485</td>\n",
       "      <td>-73.998214</td>\n",
       "    </tr>\n",
       "    <tr>\n",
       "      <th>3</th>\n",
       "      <td>SHRINE, YATENGA</td>\n",
       "      <td>Manhattan</td>\n",
       "      <td>22712269</td>\n",
       "      <td>7 AVENUE</td>\n",
       "      <td>NaN</td>\n",
       "      <td>0.000000</td>\n",
       "      <td>0.000000</td>\n",
       "    </tr>\n",
       "    <tr>\n",
       "      <th>4</th>\n",
       "      <td>AVIATOR GRILL AT INTREPID</td>\n",
       "      <td>Manhattan</td>\n",
       "      <td>1</td>\n",
       "      <td>INTREPID SQ</td>\n",
       "      <td>NaN</td>\n",
       "      <td>0.000000</td>\n",
       "      <td>0.000000</td>\n",
       "    </tr>\n",
       "  </tbody>\n",
       "</table>\n",
       "</div>"
      ],
      "text/plain": [
       "                         DBA       BORO  BUILDING            STREET  ZIPCODE  \\\n",
       "0              GRAND & ESSEX  Manhattan       359      GRAND STREET  10002.0   \n",
       "1                  THE WOLFE  Manhattan       425  AMSTERDAM AVENUE  10024.0   \n",
       "2                 ROMA PIZZA  Manhattan       465          6 AVENUE  10011.0   \n",
       "3            SHRINE, YATENGA  Manhattan  22712269          7 AVENUE      NaN   \n",
       "4  AVIATOR GRILL AT INTREPID  Manhattan         1       INTREPID SQ      NaN   \n",
       "\n",
       "    Latitude  Longitude  \n",
       "0  40.716639 -73.988998  \n",
       "1  40.784048 -73.977651  \n",
       "2  40.735485 -73.998214  \n",
       "3   0.000000   0.000000  \n",
       "4   0.000000   0.000000  "
      ]
     },
     "execution_count": 91,
     "metadata": {},
     "output_type": "execute_result"
    }
   ],
   "source": [
    "#Checking above has completed\n",
    "print(len(restaurant_df.index))\n",
    "restaurant_df.head()"
   ]
  },
  {
   "cell_type": "code",
   "execution_count": 85,
   "metadata": {},
   "outputs": [],
   "source": [
    "#Keeping necessary information only\n",
    "#DBA, BORO, Building, Street, Zipcode, Phone, Latitude, and Longitude\n",
    "\n",
    "restaurant_df = restaurant_df[['DBA','BORO','BUILDING', 'STREET', 'ZIPCODE', 'Latitude', 'Longitude']]\n"
   ]
  },
  {
   "cell_type": "code",
   "execution_count": 86,
   "metadata": {},
   "outputs": [
    {
     "data": {
      "text/html": [
       "<div>\n",
       "<style scoped>\n",
       "    .dataframe tbody tr th:only-of-type {\n",
       "        vertical-align: middle;\n",
       "    }\n",
       "\n",
       "    .dataframe tbody tr th {\n",
       "        vertical-align: top;\n",
       "    }\n",
       "\n",
       "    .dataframe thead th {\n",
       "        text-align: right;\n",
       "    }\n",
       "</style>\n",
       "<table border=\"1\" class=\"dataframe\">\n",
       "  <thead>\n",
       "    <tr style=\"text-align: right;\">\n",
       "      <th></th>\n",
       "      <th>DBA</th>\n",
       "      <th>BORO</th>\n",
       "      <th>BUILDING</th>\n",
       "      <th>STREET</th>\n",
       "      <th>ZIPCODE</th>\n",
       "      <th>Latitude</th>\n",
       "      <th>Longitude</th>\n",
       "    </tr>\n",
       "  </thead>\n",
       "  <tbody>\n",
       "    <tr>\n",
       "      <th>0</th>\n",
       "      <td>GRAND &amp; ESSEX</td>\n",
       "      <td>Manhattan</td>\n",
       "      <td>359</td>\n",
       "      <td>GRAND STREET</td>\n",
       "      <td>10002.0</td>\n",
       "      <td>40.716639</td>\n",
       "      <td>-73.988998</td>\n",
       "    </tr>\n",
       "    <tr>\n",
       "      <th>12</th>\n",
       "      <td>THE WOLFE</td>\n",
       "      <td>Manhattan</td>\n",
       "      <td>425</td>\n",
       "      <td>AMSTERDAM AVENUE</td>\n",
       "      <td>10024.0</td>\n",
       "      <td>40.784048</td>\n",
       "      <td>-73.977651</td>\n",
       "    </tr>\n",
       "    <tr>\n",
       "      <th>13</th>\n",
       "      <td>ROMA PIZZA</td>\n",
       "      <td>Manhattan</td>\n",
       "      <td>465</td>\n",
       "      <td>6 AVENUE</td>\n",
       "      <td>10011.0</td>\n",
       "      <td>40.735485</td>\n",
       "      <td>-73.998214</td>\n",
       "    </tr>\n",
       "    <tr>\n",
       "      <th>28</th>\n",
       "      <td>SHRINE, YATENGA</td>\n",
       "      <td>Manhattan</td>\n",
       "      <td>22712269</td>\n",
       "      <td>7 AVENUE</td>\n",
       "      <td>NaN</td>\n",
       "      <td>0.000000</td>\n",
       "      <td>0.000000</td>\n",
       "    </tr>\n",
       "    <tr>\n",
       "      <th>30</th>\n",
       "      <td>AVIATOR GRILL AT INTREPID</td>\n",
       "      <td>Manhattan</td>\n",
       "      <td>1</td>\n",
       "      <td>INTREPID SQ</td>\n",
       "      <td>NaN</td>\n",
       "      <td>0.000000</td>\n",
       "      <td>0.000000</td>\n",
       "    </tr>\n",
       "  </tbody>\n",
       "</table>\n",
       "</div>"
      ],
      "text/plain": [
       "                          DBA       BORO  BUILDING            STREET  ZIPCODE  \\\n",
       "0               GRAND & ESSEX  Manhattan       359      GRAND STREET  10002.0   \n",
       "12                  THE WOLFE  Manhattan       425  AMSTERDAM AVENUE  10024.0   \n",
       "13                 ROMA PIZZA  Manhattan       465          6 AVENUE  10011.0   \n",
       "28            SHRINE, YATENGA  Manhattan  22712269          7 AVENUE      NaN   \n",
       "30  AVIATOR GRILL AT INTREPID  Manhattan         1       INTREPID SQ      NaN   \n",
       "\n",
       "     Latitude  Longitude  \n",
       "0   40.716639 -73.988998  \n",
       "12  40.784048 -73.977651  \n",
       "13  40.735485 -73.998214  \n",
       "28   0.000000   0.000000  \n",
       "30   0.000000   0.000000  "
      ]
     },
     "execution_count": 86,
     "metadata": {},
     "output_type": "execute_result"
    }
   ],
   "source": [
    "#Displaying updated dataframe\n",
    "restaurant_df.head()"
   ]
  },
  {
   "cell_type": "code",
   "execution_count": 87,
   "metadata": {},
   "outputs": [
    {
     "data": {
      "text/plain": [
       "DBA          False\n",
       "BORO         False\n",
       "BUILDING      True\n",
       "STREET       False\n",
       "ZIPCODE       True\n",
       "Latitude      True\n",
       "Longitude     True\n",
       "dtype: bool"
      ]
     },
     "execution_count": 87,
     "metadata": {},
     "output_type": "execute_result"
    }
   ],
   "source": [
    "#Checking if there is any null value\n",
    "restaurant_df.isnull().any()"
   ]
  },
  {
   "cell_type": "code",
   "execution_count": 93,
   "metadata": {},
   "outputs": [
    {
     "data": {
      "text/html": [
       "<div>\n",
       "<style scoped>\n",
       "    .dataframe tbody tr th:only-of-type {\n",
       "        vertical-align: middle;\n",
       "    }\n",
       "\n",
       "    .dataframe tbody tr th {\n",
       "        vertical-align: top;\n",
       "    }\n",
       "\n",
       "    .dataframe thead th {\n",
       "        text-align: right;\n",
       "    }\n",
       "</style>\n",
       "<table border=\"1\" class=\"dataframe\">\n",
       "  <thead>\n",
       "    <tr style=\"text-align: right;\">\n",
       "      <th></th>\n",
       "      <th>DBA</th>\n",
       "      <th>BORO</th>\n",
       "      <th>BUILDING</th>\n",
       "      <th>STREET</th>\n",
       "      <th>ZIPCODE</th>\n",
       "      <th>Latitude</th>\n",
       "      <th>Longitude</th>\n",
       "      <th>ADRESS</th>\n",
       "    </tr>\n",
       "  </thead>\n",
       "  <tbody>\n",
       "    <tr>\n",
       "      <th>0</th>\n",
       "      <td>GRAND &amp; ESSEX</td>\n",
       "      <td>Manhattan</td>\n",
       "      <td>359</td>\n",
       "      <td>GRAND STREET</td>\n",
       "      <td>10002.0</td>\n",
       "      <td>40.716639</td>\n",
       "      <td>-73.988998</td>\n",
       "      <td>359 GRAND STREET, Manhattan</td>\n",
       "    </tr>\n",
       "    <tr>\n",
       "      <th>1</th>\n",
       "      <td>THE WOLFE</td>\n",
       "      <td>Manhattan</td>\n",
       "      <td>425</td>\n",
       "      <td>AMSTERDAM AVENUE</td>\n",
       "      <td>10024.0</td>\n",
       "      <td>40.784048</td>\n",
       "      <td>-73.977651</td>\n",
       "      <td>425 AMSTERDAM AVENUE, Manhattan</td>\n",
       "    </tr>\n",
       "    <tr>\n",
       "      <th>2</th>\n",
       "      <td>ROMA PIZZA</td>\n",
       "      <td>Manhattan</td>\n",
       "      <td>465</td>\n",
       "      <td>6 AVENUE</td>\n",
       "      <td>10011.0</td>\n",
       "      <td>40.735485</td>\n",
       "      <td>-73.998214</td>\n",
       "      <td>465 6 AVENUE, Manhattan</td>\n",
       "    </tr>\n",
       "    <tr>\n",
       "      <th>3</th>\n",
       "      <td>SHRINE, YATENGA</td>\n",
       "      <td>Manhattan</td>\n",
       "      <td>22712269</td>\n",
       "      <td>7 AVENUE</td>\n",
       "      <td>NaN</td>\n",
       "      <td>0.000000</td>\n",
       "      <td>0.000000</td>\n",
       "      <td>22712269 7 AVENUE, Manhattan</td>\n",
       "    </tr>\n",
       "    <tr>\n",
       "      <th>4</th>\n",
       "      <td>AVIATOR GRILL AT INTREPID</td>\n",
       "      <td>Manhattan</td>\n",
       "      <td>1</td>\n",
       "      <td>INTREPID SQ</td>\n",
       "      <td>NaN</td>\n",
       "      <td>0.000000</td>\n",
       "      <td>0.000000</td>\n",
       "      <td>1 INTREPID SQ, Manhattan</td>\n",
       "    </tr>\n",
       "  </tbody>\n",
       "</table>\n",
       "</div>"
      ],
      "text/plain": [
       "                         DBA       BORO  BUILDING            STREET  ZIPCODE  \\\n",
       "0              GRAND & ESSEX  Manhattan       359      GRAND STREET  10002.0   \n",
       "1                  THE WOLFE  Manhattan       425  AMSTERDAM AVENUE  10024.0   \n",
       "2                 ROMA PIZZA  Manhattan       465          6 AVENUE  10011.0   \n",
       "3            SHRINE, YATENGA  Manhattan  22712269          7 AVENUE      NaN   \n",
       "4  AVIATOR GRILL AT INTREPID  Manhattan         1       INTREPID SQ      NaN   \n",
       "\n",
       "    Latitude  Longitude                           ADRESS  \n",
       "0  40.716639 -73.988998      359 GRAND STREET, Manhattan  \n",
       "1  40.784048 -73.977651  425 AMSTERDAM AVENUE, Manhattan  \n",
       "2  40.735485 -73.998214          465 6 AVENUE, Manhattan  \n",
       "3   0.000000   0.000000     22712269 7 AVENUE, Manhattan  \n",
       "4   0.000000   0.000000         1 INTREPID SQ, Manhattan  "
      ]
     },
     "execution_count": 93,
     "metadata": {},
     "output_type": "execute_result"
    }
   ],
   "source": [
    "#Adding Address to add ZIPCODE\n",
    "from geopy.geocoders import Nominatim\n",
    "\n",
    "geolocator = geopy.Nominatim(user_agent='http')\n",
    "\n",
    "restaurant_df[\"ADRESS\"] = restaurant_df['BUILDING'] + ' ' + restaurant_df['STREET'] + ', ' + restaurant_df[\"BORO\"]\n",
    "\n",
    "restaurant_df.head()"
   ]
  },
  {
   "cell_type": "code",
   "execution_count": 169,
   "metadata": {},
   "outputs": [],
   "source": [
    "def get_zipcode(address):\n",
    "    location = geolocator.geocode(address, timeout=None)\n",
    "    #data = location.raw\n",
    "    #loc_data = data['display_name'].split(\", \")\n",
    "    #zipcode = loc_data[-2]\n",
    "    time.sleep(1)\n",
    "    return location"
   ]
  },
  {
   "cell_type": "code",
   "execution_count": 170,
   "metadata": {},
   "outputs": [
    {
     "data": {
      "text/plain": [
       "Location(M&T Bank, 2935, Veterans Road West, Staten Island, Richmond County, City of New York, New York, 10309, United States, (40.5265539, -74.2308288, 0.0))"
      ]
     },
     "execution_count": 170,
     "metadata": {},
     "output_type": "execute_result"
    }
   ],
   "source": [
    "get_zipcode(\"2935 Veterans Road, Staten Island\")"
   ]
  },
  {
   "cell_type": "code",
   "execution_count": 171,
   "metadata": {},
   "outputs": [
    {
     "ename": "AssertionError",
     "evalue": "",
     "output_type": "error",
     "traceback": [
      "\u001b[0;31m---------------------------------------------------------------------------\u001b[0m",
      "\u001b[0;31mAssertionError\u001b[0m                            Traceback (most recent call last)",
      "Cell \u001b[0;32mIn[171], line 1\u001b[0m\n\u001b[0;32m----> 1\u001b[0m nan_rows[\u001b[38;5;124m'\u001b[39m\u001b[38;5;124mzipcode\u001b[39m\u001b[38;5;124m'\u001b[39m] \u001b[38;5;241m=\u001b[39m \u001b[43mnan_rows\u001b[49m\u001b[38;5;241;43m.\u001b[39;49m\u001b[43mapply\u001b[49m\u001b[43m(\u001b[49m\u001b[43mget_zipcode\u001b[49m\u001b[43m(\u001b[49m\u001b[43mnan_rows\u001b[49m\u001b[43m[\u001b[49m\u001b[38;5;124;43m'\u001b[39;49m\u001b[38;5;124;43maddress\u001b[39;49m\u001b[38;5;124;43m'\u001b[39;49m\u001b[43m]\u001b[49m\u001b[43m)\u001b[49m\u001b[43m)\u001b[49m\n",
      "File \u001b[0;32m/Library/Frameworks/Python.framework/Versions/3.11/lib/python3.11/site-packages/pandas/core/frame.py:9565\u001b[0m, in \u001b[0;36mDataFrame.apply\u001b[0;34m(self, func, axis, raw, result_type, args, **kwargs)\u001b[0m\n\u001b[1;32m   9554\u001b[0m \u001b[38;5;28;01mfrom\u001b[39;00m \u001b[38;5;21;01mpandas\u001b[39;00m\u001b[38;5;21;01m.\u001b[39;00m\u001b[38;5;21;01mcore\u001b[39;00m\u001b[38;5;21;01m.\u001b[39;00m\u001b[38;5;21;01mapply\u001b[39;00m \u001b[38;5;28;01mimport\u001b[39;00m frame_apply\n\u001b[1;32m   9556\u001b[0m op \u001b[38;5;241m=\u001b[39m frame_apply(\n\u001b[1;32m   9557\u001b[0m     \u001b[38;5;28mself\u001b[39m,\n\u001b[1;32m   9558\u001b[0m     func\u001b[38;5;241m=\u001b[39mfunc,\n\u001b[0;32m   (...)\u001b[0m\n\u001b[1;32m   9563\u001b[0m     kwargs\u001b[38;5;241m=\u001b[39mkwargs,\n\u001b[1;32m   9564\u001b[0m )\n\u001b[0;32m-> 9565\u001b[0m \u001b[38;5;28;01mreturn\u001b[39;00m \u001b[43mop\u001b[49m\u001b[38;5;241;43m.\u001b[39;49m\u001b[43mapply\u001b[49m\u001b[43m(\u001b[49m\u001b[43m)\u001b[49m\u001b[38;5;241m.\u001b[39m__finalize__(\u001b[38;5;28mself\u001b[39m, method\u001b[38;5;241m=\u001b[39m\u001b[38;5;124m\"\u001b[39m\u001b[38;5;124mapply\u001b[39m\u001b[38;5;124m\"\u001b[39m)\n",
      "File \u001b[0;32m/Library/Frameworks/Python.framework/Versions/3.11/lib/python3.11/site-packages/pandas/core/apply.py:746\u001b[0m, in \u001b[0;36mFrameApply.apply\u001b[0;34m(self)\u001b[0m\n\u001b[1;32m    743\u001b[0m \u001b[38;5;28;01melif\u001b[39;00m \u001b[38;5;28mself\u001b[39m\u001b[38;5;241m.\u001b[39mraw:\n\u001b[1;32m    744\u001b[0m     \u001b[38;5;28;01mreturn\u001b[39;00m \u001b[38;5;28mself\u001b[39m\u001b[38;5;241m.\u001b[39mapply_raw()\n\u001b[0;32m--> 746\u001b[0m \u001b[38;5;28;01mreturn\u001b[39;00m \u001b[38;5;28;43mself\u001b[39;49m\u001b[38;5;241;43m.\u001b[39;49m\u001b[43mapply_standard\u001b[49m\u001b[43m(\u001b[49m\u001b[43m)\u001b[49m\n",
      "File \u001b[0;32m/Library/Frameworks/Python.framework/Versions/3.11/lib/python3.11/site-packages/pandas/core/apply.py:873\u001b[0m, in \u001b[0;36mFrameApply.apply_standard\u001b[0;34m(self)\u001b[0m\n\u001b[1;32m    872\u001b[0m \u001b[38;5;28;01mdef\u001b[39;00m \u001b[38;5;21mapply_standard\u001b[39m(\u001b[38;5;28mself\u001b[39m):\n\u001b[0;32m--> 873\u001b[0m     results, res_index \u001b[38;5;241m=\u001b[39m \u001b[38;5;28;43mself\u001b[39;49m\u001b[38;5;241;43m.\u001b[39;49m\u001b[43mapply_series_generator\u001b[49m\u001b[43m(\u001b[49m\u001b[43m)\u001b[49m\n\u001b[1;32m    875\u001b[0m     \u001b[38;5;66;03m# wrap results\u001b[39;00m\n\u001b[1;32m    876\u001b[0m     \u001b[38;5;28;01mreturn\u001b[39;00m \u001b[38;5;28mself\u001b[39m\u001b[38;5;241m.\u001b[39mwrap_results(results, res_index)\n",
      "File \u001b[0;32m/Library/Frameworks/Python.framework/Versions/3.11/lib/python3.11/site-packages/pandas/core/apply.py:879\u001b[0m, in \u001b[0;36mFrameApply.apply_series_generator\u001b[0;34m(self)\u001b[0m\n\u001b[1;32m    878\u001b[0m \u001b[38;5;28;01mdef\u001b[39;00m \u001b[38;5;21mapply_series_generator\u001b[39m(\u001b[38;5;28mself\u001b[39m) \u001b[38;5;241m-\u001b[39m\u001b[38;5;241m>\u001b[39m \u001b[38;5;28mtuple\u001b[39m[ResType, Index]:\n\u001b[0;32m--> 879\u001b[0m     \u001b[38;5;28;01massert\u001b[39;00m callable(\u001b[38;5;28mself\u001b[39m\u001b[38;5;241m.\u001b[39mf)\n\u001b[1;32m    881\u001b[0m     series_gen \u001b[38;5;241m=\u001b[39m \u001b[38;5;28mself\u001b[39m\u001b[38;5;241m.\u001b[39mseries_generator\n\u001b[1;32m    882\u001b[0m     res_index \u001b[38;5;241m=\u001b[39m \u001b[38;5;28mself\u001b[39m\u001b[38;5;241m.\u001b[39mresult_index\n",
      "\u001b[0;31mAssertionError\u001b[0m: "
     ]
    }
   ],
   "source": [
    "nan_rows['zipcode'] = nan_rows.apply(get_zipcode(nan_rows['address']))"
   ]
  },
  {
   "cell_type": "code",
   "execution_count": null,
   "metadata": {},
   "outputs": [],
   "source": []
  }
 ],
 "metadata": {
  "interpreter": {
   "hash": "aee8b7b246df8f9039afb4144a1f6fd8d2ca17a180786b69acc140d282b71a49"
  },
  "kernelspec": {
   "display_name": "Python 3.11.0 64-bit",
   "language": "python",
   "name": "python3"
  },
  "language_info": {
   "codemirror_mode": {
    "name": "ipython",
    "version": 3
   },
   "file_extension": ".py",
   "mimetype": "text/x-python",
   "name": "python",
   "nbconvert_exporter": "python",
   "pygments_lexer": "ipython3",
   "version": "3.11.0"
  },
  "orig_nbformat": 4
 },
 "nbformat": 4,
 "nbformat_minor": 2
}
