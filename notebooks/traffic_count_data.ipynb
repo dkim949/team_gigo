{
 "cells": [
  {
   "cell_type": "code",
   "execution_count": 2,
   "metadata": {},
   "outputs": [],
   "source": [
    "import pandas as pd\n",
    "from sodapy import Socrata"
   ]
  },
  {
   "cell_type": "code",
   "execution_count": 3,
   "metadata": {},
   "outputs": [
    {
     "name": "stderr",
     "output_type": "stream",
     "text": [
      "WARNING:root:Requests made without an app_token will be subject to strict throttling limits.\n"
     ]
    }
   ],
   "source": [
    "client = Socrata(\"data.cityofnewyork.us\", None)"
   ]
  },
  {
   "cell_type": "code",
   "execution_count": 55,
   "metadata": {},
   "outputs": [],
   "source": [
    "results = client.get(\"7ym2-wayt\", limit = None)"
   ]
  },
  {
   "cell_type": "code",
   "execution_count": 58,
   "metadata": {},
   "outputs": [],
   "source": [
    "traffic_df = pd.read_csv('./traffic.csv')"
   ]
  },
  {
   "cell_type": "code",
   "execution_count": 59,
   "metadata": {},
   "outputs": [
    {
     "name": "stdout",
     "output_type": "stream",
     "text": [
      "<class 'pandas.core.frame.DataFrame'>\n",
      "RangeIndex: 27414481 entries, 0 to 27414480\n",
      "Data columns (total 14 columns):\n",
      " #   Column     Dtype \n",
      "---  ------     ----- \n",
      " 0   RequestID  int64 \n",
      " 1   Boro       object\n",
      " 2   Yr         int64 \n",
      " 3   M          int64 \n",
      " 4   D          int64 \n",
      " 5   HH         int64 \n",
      " 6   MM         int64 \n",
      " 7   Vol        int64 \n",
      " 8   SegmentID  int64 \n",
      " 9   WktGeom    object\n",
      " 10  street     object\n",
      " 11  fromSt     object\n",
      " 12  toSt       object\n",
      " 13  Direction  object\n",
      "dtypes: int64(8), object(6)\n",
      "memory usage: 2.9+ GB\n"
     ]
    }
   ],
   "source": [
    "traffic_df.info()"
   ]
  },
  {
   "cell_type": "markdown",
   "metadata": {},
   "source": []
  },
  {
   "cell_type": "code",
   "execution_count": 60,
   "metadata": {},
   "outputs": [
    {
     "data": {
      "text/html": [
       "<div>\n",
       "<style scoped>\n",
       "    .dataframe tbody tr th:only-of-type {\n",
       "        vertical-align: middle;\n",
       "    }\n",
       "\n",
       "    .dataframe tbody tr th {\n",
       "        vertical-align: top;\n",
       "    }\n",
       "\n",
       "    .dataframe thead th {\n",
       "        text-align: right;\n",
       "    }\n",
       "</style>\n",
       "<table border=\"1\" class=\"dataframe\">\n",
       "  <thead>\n",
       "    <tr style=\"text-align: right;\">\n",
       "      <th></th>\n",
       "      <th>RequestID</th>\n",
       "      <th>Boro</th>\n",
       "      <th>Yr</th>\n",
       "      <th>M</th>\n",
       "      <th>D</th>\n",
       "      <th>HH</th>\n",
       "      <th>MM</th>\n",
       "      <th>Vol</th>\n",
       "      <th>SegmentID</th>\n",
       "      <th>WktGeom</th>\n",
       "      <th>street</th>\n",
       "      <th>fromSt</th>\n",
       "      <th>toSt</th>\n",
       "      <th>Direction</th>\n",
       "    </tr>\n",
       "  </thead>\n",
       "  <tbody>\n",
       "    <tr>\n",
       "      <th>0</th>\n",
       "      <td>1100</td>\n",
       "      <td>Staten Island</td>\n",
       "      <td>2011</td>\n",
       "      <td>10</td>\n",
       "      <td>14</td>\n",
       "      <td>10</td>\n",
       "      <td>45</td>\n",
       "      <td>102</td>\n",
       "      <td>103882</td>\n",
       "      <td>POINT (963246 173171.4)</td>\n",
       "      <td>BAY ST</td>\n",
       "      <td>RICHMOND TERR</td>\n",
       "      <td>STUYVESANT PL</td>\n",
       "      <td>SB</td>\n",
       "    </tr>\n",
       "    <tr>\n",
       "      <th>1</th>\n",
       "      <td>1100</td>\n",
       "      <td>Staten Island</td>\n",
       "      <td>2011</td>\n",
       "      <td>10</td>\n",
       "      <td>14</td>\n",
       "      <td>11</td>\n",
       "      <td>0</td>\n",
       "      <td>110</td>\n",
       "      <td>103882</td>\n",
       "      <td>POINT (963246 173171.4)</td>\n",
       "      <td>BAY ST</td>\n",
       "      <td>RICHMOND TERR</td>\n",
       "      <td>STUYVESANT PL</td>\n",
       "      <td>SB</td>\n",
       "    </tr>\n",
       "    <tr>\n",
       "      <th>2</th>\n",
       "      <td>1100</td>\n",
       "      <td>Staten Island</td>\n",
       "      <td>2011</td>\n",
       "      <td>10</td>\n",
       "      <td>14</td>\n",
       "      <td>11</td>\n",
       "      <td>15</td>\n",
       "      <td>101</td>\n",
       "      <td>103882</td>\n",
       "      <td>POINT (963246 173171.4)</td>\n",
       "      <td>BAY ST</td>\n",
       "      <td>RICHMOND TERR</td>\n",
       "      <td>STUYVESANT PL</td>\n",
       "      <td>SB</td>\n",
       "    </tr>\n",
       "    <tr>\n",
       "      <th>3</th>\n",
       "      <td>1100</td>\n",
       "      <td>Staten Island</td>\n",
       "      <td>2011</td>\n",
       "      <td>10</td>\n",
       "      <td>14</td>\n",
       "      <td>11</td>\n",
       "      <td>30</td>\n",
       "      <td>112</td>\n",
       "      <td>103882</td>\n",
       "      <td>POINT (963246 173171.4)</td>\n",
       "      <td>BAY ST</td>\n",
       "      <td>RICHMOND TERR</td>\n",
       "      <td>STUYVESANT PL</td>\n",
       "      <td>SB</td>\n",
       "    </tr>\n",
       "    <tr>\n",
       "      <th>4</th>\n",
       "      <td>1100</td>\n",
       "      <td>Staten Island</td>\n",
       "      <td>2011</td>\n",
       "      <td>10</td>\n",
       "      <td>14</td>\n",
       "      <td>11</td>\n",
       "      <td>45</td>\n",
       "      <td>94</td>\n",
       "      <td>103882</td>\n",
       "      <td>POINT (963246 173171.4)</td>\n",
       "      <td>BAY ST</td>\n",
       "      <td>RICHMOND TERR</td>\n",
       "      <td>STUYVESANT PL</td>\n",
       "      <td>SB</td>\n",
       "    </tr>\n",
       "  </tbody>\n",
       "</table>\n",
       "</div>"
      ],
      "text/plain": [
       "   RequestID           Boro    Yr   M   D  HH  MM  Vol  SegmentID  \\\n",
       "0       1100  Staten Island  2011  10  14  10  45  102     103882   \n",
       "1       1100  Staten Island  2011  10  14  11   0  110     103882   \n",
       "2       1100  Staten Island  2011  10  14  11  15  101     103882   \n",
       "3       1100  Staten Island  2011  10  14  11  30  112     103882   \n",
       "4       1100  Staten Island  2011  10  14  11  45   94     103882   \n",
       "\n",
       "                   WktGeom  street         fromSt           toSt Direction  \n",
       "0  POINT (963246 173171.4)  BAY ST  RICHMOND TERR  STUYVESANT PL        SB  \n",
       "1  POINT (963246 173171.4)  BAY ST  RICHMOND TERR  STUYVESANT PL        SB  \n",
       "2  POINT (963246 173171.4)  BAY ST  RICHMOND TERR  STUYVESANT PL        SB  \n",
       "3  POINT (963246 173171.4)  BAY ST  RICHMOND TERR  STUYVESANT PL        SB  \n",
       "4  POINT (963246 173171.4)  BAY ST  RICHMOND TERR  STUYVESANT PL        SB  "
      ]
     },
     "execution_count": 60,
     "metadata": {},
     "output_type": "execute_result"
    }
   ],
   "source": [
    "traffic_df.head()"
   ]
  },
  {
   "cell_type": "code",
   "execution_count": 69,
   "metadata": {},
   "outputs": [],
   "source": [
    "#Year from 2018 to 2020\n",
    "traffic_df = traffic_df[traffic_df['Yr']>=2018]\n",
    "traffic_df = traffic_df[traffic_df['Boro']== 'Manhattan']"
   ]
  },
  {
   "cell_type": "code",
   "execution_count": null,
   "metadata": {},
   "outputs": [],
   "source": [
    "# 890+"
   ]
  },
  {
   "cell_type": "code",
   "execution_count": 70,
   "metadata": {},
   "outputs": [
    {
     "data": {
      "text/html": [
       "<div>\n",
       "<style scoped>\n",
       "    .dataframe tbody tr th:only-of-type {\n",
       "        vertical-align: middle;\n",
       "    }\n",
       "\n",
       "    .dataframe tbody tr th {\n",
       "        vertical-align: top;\n",
       "    }\n",
       "\n",
       "    .dataframe thead th {\n",
       "        text-align: right;\n",
       "    }\n",
       "</style>\n",
       "<table border=\"1\" class=\"dataframe\">\n",
       "  <thead>\n",
       "    <tr style=\"text-align: right;\">\n",
       "      <th></th>\n",
       "      <th>RequestID</th>\n",
       "      <th>Boro</th>\n",
       "      <th>Yr</th>\n",
       "      <th>M</th>\n",
       "      <th>D</th>\n",
       "      <th>HH</th>\n",
       "      <th>MM</th>\n",
       "      <th>Vol</th>\n",
       "      <th>SegmentID</th>\n",
       "      <th>WktGeom</th>\n",
       "      <th>street</th>\n",
       "      <th>fromSt</th>\n",
       "      <th>toSt</th>\n",
       "      <th>Direction</th>\n",
       "    </tr>\n",
       "  </thead>\n",
       "  <tbody>\n",
       "    <tr>\n",
       "      <th>22149213</th>\n",
       "      <td>27181</td>\n",
       "      <td>Manhattan</td>\n",
       "      <td>2018</td>\n",
       "      <td>1</td>\n",
       "      <td>22</td>\n",
       "      <td>0</td>\n",
       "      <td>0</td>\n",
       "      <td>126</td>\n",
       "      <td>32790</td>\n",
       "      <td>POINT (986780.4793264889 206808.8843383262)</td>\n",
       "      <td>BROADWAY</td>\n",
       "      <td>Broadway Line</td>\n",
       "      <td>14 Street/canarsie Line</td>\n",
       "      <td>SB</td>\n",
       "    </tr>\n",
       "    <tr>\n",
       "      <th>22149214</th>\n",
       "      <td>27181</td>\n",
       "      <td>Manhattan</td>\n",
       "      <td>2018</td>\n",
       "      <td>1</td>\n",
       "      <td>22</td>\n",
       "      <td>0</td>\n",
       "      <td>15</td>\n",
       "      <td>135</td>\n",
       "      <td>32790</td>\n",
       "      <td>POINT (986780.4793264889 206808.8843383262)</td>\n",
       "      <td>BROADWAY</td>\n",
       "      <td>Broadway Line</td>\n",
       "      <td>14 Street/canarsie Line</td>\n",
       "      <td>SB</td>\n",
       "    </tr>\n",
       "    <tr>\n",
       "      <th>22149215</th>\n",
       "      <td>27181</td>\n",
       "      <td>Manhattan</td>\n",
       "      <td>2018</td>\n",
       "      <td>1</td>\n",
       "      <td>22</td>\n",
       "      <td>0</td>\n",
       "      <td>30</td>\n",
       "      <td>113</td>\n",
       "      <td>32790</td>\n",
       "      <td>POINT (986780.4793264889 206808.8843383262)</td>\n",
       "      <td>BROADWAY</td>\n",
       "      <td>Broadway Line</td>\n",
       "      <td>14 Street/canarsie Line</td>\n",
       "      <td>SB</td>\n",
       "    </tr>\n",
       "    <tr>\n",
       "      <th>22149216</th>\n",
       "      <td>27181</td>\n",
       "      <td>Manhattan</td>\n",
       "      <td>2018</td>\n",
       "      <td>1</td>\n",
       "      <td>22</td>\n",
       "      <td>0</td>\n",
       "      <td>45</td>\n",
       "      <td>118</td>\n",
       "      <td>32790</td>\n",
       "      <td>POINT (986780.4793264889 206808.8843383262)</td>\n",
       "      <td>BROADWAY</td>\n",
       "      <td>Broadway Line</td>\n",
       "      <td>14 Street/canarsie Line</td>\n",
       "      <td>SB</td>\n",
       "    </tr>\n",
       "    <tr>\n",
       "      <th>22149217</th>\n",
       "      <td>27181</td>\n",
       "      <td>Manhattan</td>\n",
       "      <td>2018</td>\n",
       "      <td>1</td>\n",
       "      <td>22</td>\n",
       "      <td>1</td>\n",
       "      <td>0</td>\n",
       "      <td>92</td>\n",
       "      <td>32790</td>\n",
       "      <td>POINT (986780.4793264889 206808.8843383262)</td>\n",
       "      <td>BROADWAY</td>\n",
       "      <td>Broadway Line</td>\n",
       "      <td>14 Street/canarsie Line</td>\n",
       "      <td>SB</td>\n",
       "    </tr>\n",
       "  </tbody>\n",
       "</table>\n",
       "</div>"
      ],
      "text/plain": [
       "          RequestID       Boro    Yr  M   D  HH  MM  Vol  SegmentID  \\\n",
       "22149213      27181  Manhattan  2018  1  22   0   0  126      32790   \n",
       "22149214      27181  Manhattan  2018  1  22   0  15  135      32790   \n",
       "22149215      27181  Manhattan  2018  1  22   0  30  113      32790   \n",
       "22149216      27181  Manhattan  2018  1  22   0  45  118      32790   \n",
       "22149217      27181  Manhattan  2018  1  22   1   0   92      32790   \n",
       "\n",
       "                                              WktGeom    street  \\\n",
       "22149213  POINT (986780.4793264889 206808.8843383262)  BROADWAY   \n",
       "22149214  POINT (986780.4793264889 206808.8843383262)  BROADWAY   \n",
       "22149215  POINT (986780.4793264889 206808.8843383262)  BROADWAY   \n",
       "22149216  POINT (986780.4793264889 206808.8843383262)  BROADWAY   \n",
       "22149217  POINT (986780.4793264889 206808.8843383262)  BROADWAY   \n",
       "\n",
       "                 fromSt                     toSt Direction  \n",
       "22149213  Broadway Line  14 Street/canarsie Line        SB  \n",
       "22149214  Broadway Line  14 Street/canarsie Line        SB  \n",
       "22149215  Broadway Line  14 Street/canarsie Line        SB  \n",
       "22149216  Broadway Line  14 Street/canarsie Line        SB  \n",
       "22149217  Broadway Line  14 Street/canarsie Line        SB  "
      ]
     },
     "execution_count": 70,
     "metadata": {},
     "output_type": "execute_result"
    }
   ],
   "source": [
    "traffic_df.head()"
   ]
  },
  {
   "cell_type": "code",
   "execution_count": 71,
   "metadata": {},
   "outputs": [
    {
     "data": {
      "text/plain": [
       "1139213"
      ]
     },
     "execution_count": 71,
     "metadata": {},
     "output_type": "execute_result"
    }
   ],
   "source": [
    "len(traffic_df.index)"
   ]
  },
  {
   "cell_type": "code",
   "execution_count": null,
   "metadata": {},
   "outputs": [],
   "source": [
    "#Volume count per month"
   ]
  }
 ],
 "metadata": {
  "interpreter": {
   "hash": "aee8b7b246df8f9039afb4144a1f6fd8d2ca17a180786b69acc140d282b71a49"
  },
  "kernelspec": {
   "display_name": "Python 3.11.0 64-bit",
   "language": "python",
   "name": "python3"
  },
  "language_info": {
   "codemirror_mode": {
    "name": "ipython",
    "version": 3
   },
   "file_extension": ".py",
   "mimetype": "text/x-python",
   "name": "python",
   "nbconvert_exporter": "python",
   "pygments_lexer": "ipython3",
   "version": "3.11.0"
  },
  "orig_nbformat": 4
 },
 "nbformat": 4,
 "nbformat_minor": 2
}
