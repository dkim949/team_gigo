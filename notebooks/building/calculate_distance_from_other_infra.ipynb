{
 "cells": [
  {
   "cell_type": "code",
   "execution_count": 1,
   "metadata": {},
   "outputs": [],
   "source": [
    "import numpy as np\n",
    "import pandas as pd\n",
    "import geopandas as gpd\n",
    "\n",
    "from tqdm import tqdm\n",
    "tqdm.pandas(desc=\"Applying function\")\n",
    "\n",
    "from shapely.geometry import Point"
   ]
  },
  {
   "cell_type": "code",
   "execution_count": 2,
   "metadata": {},
   "outputs": [],
   "source": [
    "gdf_buildings = gpd.read_file('../../data/processed/building/building_manhattan_commercial_street_traffic_density.geojson')"
   ]
  },
  {
   "cell_type": "code",
   "execution_count": 3,
   "metadata": {},
   "outputs": [
    {
     "data": {
      "text/html": [
       "<div>\n",
       "<style scoped>\n",
       "    .dataframe tbody tr th:only-of-type {\n",
       "        vertical-align: middle;\n",
       "    }\n",
       "\n",
       "    .dataframe tbody tr th {\n",
       "        vertical-align: top;\n",
       "    }\n",
       "\n",
       "    .dataframe thead th {\n",
       "        text-align: right;\n",
       "    }\n",
       "</style>\n",
       "<table border=\"1\" class=\"dataframe\">\n",
       "  <thead>\n",
       "    <tr style=\"text-align: right;\">\n",
       "      <th></th>\n",
       "      <th>height</th>\n",
       "      <th>mpluto_bbl</th>\n",
       "      <th>cnstrct_yr</th>\n",
       "      <th>globalid</th>\n",
       "      <th>bin</th>\n",
       "      <th>office_area</th>\n",
       "      <th>retail_area</th>\n",
       "      <th>residential_area</th>\n",
       "      <th>OBJECTID</th>\n",
       "      <th>street_width_min</th>\n",
       "      <th>...</th>\n",
       "      <th>idw_aadt_2019</th>\n",
       "      <th>idw_aadt_2020</th>\n",
       "      <th>idw_aadt_2021</th>\n",
       "      <th>idw_atvc_2018</th>\n",
       "      <th>idw_atvc_2019</th>\n",
       "      <th>idw_atvc_2020</th>\n",
       "      <th>office_within_450ft</th>\n",
       "      <th>retail_within_450ft</th>\n",
       "      <th>residential_within_450ft</th>\n",
       "      <th>geometry</th>\n",
       "    </tr>\n",
       "  </thead>\n",
       "  <tbody>\n",
       "    <tr>\n",
       "      <th>0</th>\n",
       "      <td>59.722628</td>\n",
       "      <td>1021210037</td>\n",
       "      <td>1910</td>\n",
       "      <td>{A0E56BCC-A86B-4CEF-9A42-9B4ECD61743F}</td>\n",
       "      <td>1062896</td>\n",
       "      <td>0</td>\n",
       "      <td>2250</td>\n",
       "      <td>10344</td>\n",
       "      <td>100007</td>\n",
       "      <td>60.0</td>\n",
       "      <td>...</td>\n",
       "      <td>13651.722938</td>\n",
       "      <td>15362.929888</td>\n",
       "      <td>17083.134233</td>\n",
       "      <td>110.061311</td>\n",
       "      <td>140.829357</td>\n",
       "      <td>332.410589</td>\n",
       "      <td>5550</td>\n",
       "      <td>59662</td>\n",
       "      <td>898416</td>\n",
       "      <td>MULTIPOLYGON (((1001211.761 244524.798, 100123...</td>\n",
       "    </tr>\n",
       "    <tr>\n",
       "      <th>1</th>\n",
       "      <td>155.49</td>\n",
       "      <td>1008870001</td>\n",
       "      <td>1935</td>\n",
       "      <td>{0B06F7A8-1F83-44F3-97DD-AC524A6374CA}</td>\n",
       "      <td>1018457</td>\n",
       "      <td>50018</td>\n",
       "      <td>4000</td>\n",
       "      <td>0</td>\n",
       "      <td>101045</td>\n",
       "      <td>32.0</td>\n",
       "      <td>...</td>\n",
       "      <td>10065.445841</td>\n",
       "      <td>10282.943569</td>\n",
       "      <td>11495.144080</td>\n",
       "      <td>129.010552</td>\n",
       "      <td>178.320105</td>\n",
       "      <td>272.446791</td>\n",
       "      <td>2550406</td>\n",
       "      <td>351887</td>\n",
       "      <td>1164766</td>\n",
       "      <td>MULTIPOLYGON (((989135.970 210787.603, 989181....</td>\n",
       "    </tr>\n",
       "    <tr>\n",
       "      <th>2</th>\n",
       "      <td>167.21446831</td>\n",
       "      <td>1013490035</td>\n",
       "      <td>1931</td>\n",
       "      <td>{A091951D-C73E-4B77-9A61-716C666C5446}</td>\n",
       "      <td>1039988</td>\n",
       "      <td>2890</td>\n",
       "      <td>0</td>\n",
       "      <td>70110</td>\n",
       "      <td>99804</td>\n",
       "      <td>60.0</td>\n",
       "      <td>...</td>\n",
       "      <td>14437.629737</td>\n",
       "      <td>14445.844421</td>\n",
       "      <td>16299.638335</td>\n",
       "      <td>151.952815</td>\n",
       "      <td>174.349496</td>\n",
       "      <td>240.654167</td>\n",
       "      <td>170032</td>\n",
       "      <td>135993</td>\n",
       "      <td>3123941</td>\n",
       "      <td>MULTIPOLYGON (((994153.480 215659.003, 994165....</td>\n",
       "    </tr>\n",
       "    <tr>\n",
       "      <th>3</th>\n",
       "      <td>28.57</td>\n",
       "      <td>1010610006</td>\n",
       "      <td>1910</td>\n",
       "      <td>{2BE9F674-67E7-4A49-8535-F636A16D8DA5}</td>\n",
       "      <td>1026714</td>\n",
       "      <td>0</td>\n",
       "      <td>0</td>\n",
       "      <td>0</td>\n",
       "      <td>103068</td>\n",
       "      <td>32.0</td>\n",
       "      <td>...</td>\n",
       "      <td>10455.417903</td>\n",
       "      <td>10087.378012</td>\n",
       "      <td>11238.595524</td>\n",
       "      <td>163.402973</td>\n",
       "      <td>182.997568</td>\n",
       "      <td>237.267362</td>\n",
       "      <td>228739</td>\n",
       "      <td>75352</td>\n",
       "      <td>1677852</td>\n",
       "      <td>MULTIPOLYGON (((986858.328 218070.430, 986839....</td>\n",
       "    </tr>\n",
       "    <tr>\n",
       "      <th>4</th>\n",
       "      <td>73.13</td>\n",
       "      <td>1003060013</td>\n",
       "      <td>1900</td>\n",
       "      <td>{2403088E-77A6-4071-8B5E-D54AFBC720D9}</td>\n",
       "      <td>1003956</td>\n",
       "      <td>0</td>\n",
       "      <td>3800</td>\n",
       "      <td>0</td>\n",
       "      <td>92425</td>\n",
       "      <td>34.0</td>\n",
       "      <td>...</td>\n",
       "      <td>7632.299988</td>\n",
       "      <td>7433.877764</td>\n",
       "      <td>8351.143163</td>\n",
       "      <td>105.344303</td>\n",
       "      <td>137.101029</td>\n",
       "      <td>350.242494</td>\n",
       "      <td>99564</td>\n",
       "      <td>185023</td>\n",
       "      <td>676931</td>\n",
       "      <td>MULTIPOLYGON (((986180.396 200723.234, 986187....</td>\n",
       "    </tr>\n",
       "  </tbody>\n",
       "</table>\n",
       "<p>5 rows × 30 columns</p>\n",
       "</div>"
      ],
      "text/plain": [
       "         height  mpluto_bbl cnstrct_yr  \\\n",
       "0     59.722628  1021210037       1910   \n",
       "1        155.49  1008870001       1935   \n",
       "2  167.21446831  1013490035       1931   \n",
       "3         28.57  1010610006       1910   \n",
       "4         73.13  1003060013       1900   \n",
       "\n",
       "                                 globalid      bin  office_area  retail_area  \\\n",
       "0  {A0E56BCC-A86B-4CEF-9A42-9B4ECD61743F}  1062896            0         2250   \n",
       "1  {0B06F7A8-1F83-44F3-97DD-AC524A6374CA}  1018457        50018         4000   \n",
       "2  {A091951D-C73E-4B77-9A61-716C666C5446}  1039988         2890            0   \n",
       "3  {2BE9F674-67E7-4A49-8535-F636A16D8DA5}  1026714            0            0   \n",
       "4  {2403088E-77A6-4071-8B5E-D54AFBC720D9}  1003956            0         3800   \n",
       "\n",
       "   residential_area  OBJECTID  street_width_min  ...  idw_aadt_2019  \\\n",
       "0             10344    100007              60.0  ...   13651.722938   \n",
       "1                 0    101045              32.0  ...   10065.445841   \n",
       "2             70110     99804              60.0  ...   14437.629737   \n",
       "3                 0    103068              32.0  ...   10455.417903   \n",
       "4                 0     92425              34.0  ...    7632.299988   \n",
       "\n",
       "  idw_aadt_2020  idw_aadt_2021  idw_atvc_2018  idw_atvc_2019  idw_atvc_2020  \\\n",
       "0  15362.929888   17083.134233     110.061311     140.829357     332.410589   \n",
       "1  10282.943569   11495.144080     129.010552     178.320105     272.446791   \n",
       "2  14445.844421   16299.638335     151.952815     174.349496     240.654167   \n",
       "3  10087.378012   11238.595524     163.402973     182.997568     237.267362   \n",
       "4   7433.877764    8351.143163     105.344303     137.101029     350.242494   \n",
       "\n",
       "   office_within_450ft  retail_within_450ft  residential_within_450ft  \\\n",
       "0                 5550                59662                    898416   \n",
       "1              2550406               351887                   1164766   \n",
       "2               170032               135993                   3123941   \n",
       "3               228739                75352                   1677852   \n",
       "4                99564               185023                    676931   \n",
       "\n",
       "                                            geometry  \n",
       "0  MULTIPOLYGON (((1001211.761 244524.798, 100123...  \n",
       "1  MULTIPOLYGON (((989135.970 210787.603, 989181....  \n",
       "2  MULTIPOLYGON (((994153.480 215659.003, 994165....  \n",
       "3  MULTIPOLYGON (((986858.328 218070.430, 986839....  \n",
       "4  MULTIPOLYGON (((986180.396 200723.234, 986187....  \n",
       "\n",
       "[5 rows x 30 columns]"
      ]
     },
     "execution_count": 3,
     "metadata": {},
     "output_type": "execute_result"
    }
   ],
   "source": [
    "gdf_buildings.head()"
   ]
  },
  {
   "cell_type": "code",
   "execution_count": 5,
   "metadata": {},
   "outputs": [
    {
     "data": {
      "text/plain": [
       "<Projected CRS: EPSG:2263>\n",
       "Name: NAD83 / New York Long Island (ftUS)\n",
       "Axis Info [cartesian]:\n",
       "- X[east]: Easting (US survey foot)\n",
       "- Y[north]: Northing (US survey foot)\n",
       "Area of Use:\n",
       "- name: United States (USA) - New York - counties of Bronx; Kings; Nassau; New York; Queens; Richmond; Suffolk.\n",
       "- bounds: (-74.26, 40.47, -71.8, 41.3)\n",
       "Coordinate Operation:\n",
       "- name: SPCS83 New York Long Island zone (US survey foot)\n",
       "- method: Lambert Conic Conformal (2SP)\n",
       "Datum: North American Datum 1983\n",
       "- Ellipsoid: GRS 1980\n",
       "- Prime Meridian: Greenwich"
      ]
     },
     "execution_count": 5,
     "metadata": {},
     "output_type": "execute_result"
    }
   ],
   "source": [
    "gdf_buildings.crs"
   ]
  },
  {
   "cell_type": "markdown",
   "metadata": {},
   "source": [
    "## Distance from Park"
   ]
  },
  {
   "cell_type": "code",
   "execution_count": 6,
   "metadata": {},
   "outputs": [],
   "source": [
    "gdf_parks = gpd.read_file('../../data/raw/Parks Properties_20240405.geojson').to_crs(gdf_buildings.crs)"
   ]
  },
  {
   "cell_type": "code",
   "execution_count": 7,
   "metadata": {},
   "outputs": [],
   "source": [
    "gdf_buildings = gdf_buildings.sjoin_nearest(gdf_parks.loc[:,['geometry']],distance_col='distance_to_park').drop(columns='index_right')"
   ]
  },
  {
   "cell_type": "markdown",
   "metadata": {},
   "source": [
    "## Distance from School"
   ]
  },
  {
   "cell_type": "code",
   "execution_count": 8,
   "metadata": {},
   "outputs": [],
   "source": [
    "df_school = pd.read_csv('../../data/raw/2019_-_2020_School_Locations_20240405.csv')"
   ]
  },
  {
   "cell_type": "code",
   "execution_count": 9,
   "metadata": {},
   "outputs": [],
   "source": [
    "points = [Point(x,y) for x,y in zip(df_school.loc[:, 'LONGITUDE'], df_school.loc[:, 'LATITUDE'])]\n",
    "gdf_school = gpd.GeoDataFrame(df_school, geometry=points, crs=4326)\n",
    "gdf_school = gdf_school.to_crs(gdf_buildings.crs)"
   ]
  },
  {
   "cell_type": "code",
   "execution_count": 10,
   "metadata": {},
   "outputs": [],
   "source": [
    "gdf_buildings = gdf_buildings.sjoin_nearest(gdf_school.loc[:,['geometry']],distance_col='distance_to_school').drop(columns='index_right')"
   ]
  },
  {
   "cell_type": "code",
   "execution_count": 12,
   "metadata": {},
   "outputs": [],
   "source": [
    "gdf_buildings = gdf_buildings.drop_duplicates(subset=['bin'])"
   ]
  },
  {
   "cell_type": "code",
   "execution_count": 13,
   "metadata": {},
   "outputs": [],
   "source": [
    "gdf_buildings.to_file('../../data/processed/building/building_manhattan_commercial_street_traffic_density_other.geojson', driver='GeoJSON')"
   ]
  },
  {
   "cell_type": "code",
   "execution_count": 16,
   "metadata": {},
   "outputs": [],
   "source": [
    "gdf_buildings.drop(columns=['geometry']).to_csv('../../data/processed/building/building_240405.csv', index=False)"
   ]
  }
 ],
 "metadata": {
  "kernelspec": {
   "display_name": "teamgigo",
   "language": "python",
   "name": "python3"
  },
  "language_info": {
   "codemirror_mode": {
    "name": "ipython",
    "version": 3
   },
   "file_extension": ".py",
   "mimetype": "text/x-python",
   "name": "python",
   "nbconvert_exporter": "python",
   "pygments_lexer": "ipython3",
   "version": "3.12.2"
  }
 },
 "nbformat": 4,
 "nbformat_minor": 2
}
