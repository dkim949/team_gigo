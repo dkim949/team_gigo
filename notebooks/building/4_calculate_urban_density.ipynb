{
 "cells": [
  {
   "cell_type": "code",
   "execution_count": 1,
   "metadata": {},
   "outputs": [],
   "source": [
    "import geopandas as gpd\n",
    "\n",
    "from tqdm import tqdm\n",
    "tqdm.pandas(desc=\"Applying function\")"
   ]
  },
  {
   "cell_type": "code",
   "execution_count": 2,
   "metadata": {},
   "outputs": [],
   "source": [
    "gdf_building = gpd.read_file('../../data/processed/building/building_sample.geojson')\n",
    "buildings_sindex = gdf_building.sindex"
   ]
  },
  {
   "cell_type": "code",
   "execution_count": 3,
   "metadata": {},
   "outputs": [
    {
     "data": {
      "text/plain": [
       "<Projected CRS: EPSG:2263>\n",
       "Name: NAD83 / New York Long Island (ftUS)\n",
       "Axis Info [cartesian]:\n",
       "- X[east]: Easting (US survey foot)\n",
       "- Y[north]: Northing (US survey foot)\n",
       "Area of Use:\n",
       "- name: United States (USA) - New York - counties of Bronx; Kings; Nassau; New York; Queens; Richmond; Suffolk.\n",
       "- bounds: (-74.26, 40.47, -71.8, 41.3)\n",
       "Coordinate Operation:\n",
       "- name: SPCS83 New York Long Island zone (US survey foot)\n",
       "- method: Lambert Conic Conformal (2SP)\n",
       "Datum: North American Datum 1983\n",
       "- Ellipsoid: GRS 1980\n",
       "- Prime Meridian: Greenwich"
      ]
     },
     "execution_count": 3,
     "metadata": {},
     "output_type": "execute_result"
    }
   ],
   "source": [
    "gdf_building.crs"
   ]
  },
  {
   "cell_type": "code",
   "execution_count": 4,
   "metadata": {},
   "outputs": [
    {
     "name": "stderr",
     "output_type": "stream",
     "text": [
      "Applying function: 100%|██████████| 5733/5733 [00:12<00:00, 462.46it/s]\n"
     ]
    }
   ],
   "source": [
    "def total_area_within_radius(building, radius):\n",
    "    point = building['geometry'].centroid\n",
    "    # Getting the index of candidate buildings within the radius centered at the building's centroid\n",
    "    possible_matches_index = list(buildings_sindex.intersection(point.buffer(radius).bounds))\n",
    "    # Retrieving the candidate buildings that are actually within the radius\n",
    "    possible_matches = gdf_building.iloc[possible_matches_index]\n",
    "    selected_buildings = possible_matches[possible_matches.intersects(point.buffer(radius))]\n",
    "    # Calculating the total office, retail, and residential areas of the selected buildings\n",
    "    total_office_area = selected_buildings['office_area'].sum()\n",
    "    total_retail_area = selected_buildings['retail_area'].sum()\n",
    "    total_residential_area = selected_buildings['residential_area'].sum()\n",
    "    return total_office_area, total_retail_area, total_residential_area\n",
    "\n",
    "gdf_building['office_within_450ft'], gdf_building['retail_within_450ft'], gdf_building['residential_within_450ft'] = zip(*gdf_building.progress_apply(lambda x: total_area_within_radius(x, 450), axis=1))"
   ]
  },
  {
   "cell_type": "code",
   "execution_count": 5,
   "metadata": {},
   "outputs": [],
   "source": [
    "gdf_building.to_file('../../data/processed/building/building_sample.geojson', driver='GeoJSON')"
   ]
  }
 ],
 "metadata": {
  "kernelspec": {
   "display_name": "teamgigo",
   "language": "python",
   "name": "python3"
  },
  "language_info": {
   "codemirror_mode": {
    "name": "ipython",
    "version": 3
   },
   "file_extension": ".py",
   "mimetype": "text/x-python",
   "name": "python",
   "nbconvert_exporter": "python",
   "pygments_lexer": "ipython3",
   "version": "3.12.2"
  }
 },
 "nbformat": 4,
 "nbformat_minor": 2
}
